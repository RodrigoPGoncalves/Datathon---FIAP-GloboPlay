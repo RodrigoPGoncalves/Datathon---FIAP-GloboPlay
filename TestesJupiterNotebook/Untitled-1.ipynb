{
 "cells": [
  {
   "cell_type": "code",
   "execution_count": null,
   "metadata": {},
   "outputs": [],
   "source": [
    "!python3.10 -m pip install scikit-learn \n",
    "!python3.10 -m pip install nltk \n",
    "!python3.10 -m pip install spacy\n",
    "!python3.10 -m pip install pandas\n",
    "!python3.10 -m pip install fasttext-wheel\n",
    "!python3.10 -m pip install matplotlib\n",
    "!python3.10 -m pip install seaborn"
   ]
  },
  {
   "cell_type": "code",
   "execution_count": null,
   "metadata": {},
   "outputs": [
    {
     "name": "stdout",
     "output_type": "stream",
     "text": [
      "Defaulting to user installation because normal site-packages is not writeable\n",
      "Requirement already satisfied: matplotlib in /home/rodrigo/.local/lib/python3.10/site-packages (3.10.1)\n",
      "Requirement already satisfied: contourpy>=1.0.1 in /home/rodrigo/.local/lib/python3.10/site-packages (from matplotlib) (1.3.1)\n",
      "Requirement already satisfied: cycler>=0.10 in /home/rodrigo/.local/lib/python3.10/site-packages (from matplotlib) (0.12.1)\n",
      "Requirement already satisfied: fonttools>=4.22.0 in /home/rodrigo/.local/lib/python3.10/site-packages (from matplotlib) (4.56.0)\n",
      "Requirement already satisfied: kiwisolver>=1.3.1 in /home/rodrigo/.local/lib/python3.10/site-packages (from matplotlib) (1.4.8)\n",
      "Requirement already satisfied: numpy>=1.23 in /home/rodrigo/.local/lib/python3.10/site-packages (from matplotlib) (2.2.3)\n",
      "Requirement already satisfied: packaging>=20.0 in /home/rodrigo/.local/lib/python3.10/site-packages (from matplotlib) (24.2)\n",
      "Requirement already satisfied: pillow>=8 in /home/rodrigo/.local/lib/python3.10/site-packages (from matplotlib) (11.1.0)\n",
      "Requirement already satisfied: pyparsing>=2.3.1 in /usr/lib/python3/dist-packages (from matplotlib) (2.4.6)\n",
      "Requirement already satisfied: python-dateutil>=2.7 in /home/rodrigo/.local/lib/python3.10/site-packages (from matplotlib) (2.9.0.post0)\n",
      "Requirement already satisfied: six>=1.5 in /home/rodrigo/.local/lib/python3.10/site-packages (from python-dateutil>=2.7->matplotlib) (1.17.0)\n",
      "Defaulting to user installation because normal site-packages is not writeable\n",
      "Collecting seaborn\n",
      "  Using cached seaborn-0.13.2-py3-none-any.whl.metadata (5.4 kB)\n",
      "Requirement already satisfied: numpy!=1.24.0,>=1.20 in /home/rodrigo/.local/lib/python3.10/site-packages (from seaborn) (2.2.3)\n",
      "Requirement already satisfied: pandas>=1.2 in /home/rodrigo/.local/lib/python3.10/site-packages (from seaborn) (2.2.3)\n",
      "Requirement already satisfied: matplotlib!=3.6.1,>=3.4 in /home/rodrigo/.local/lib/python3.10/site-packages (from seaborn) (3.10.1)\n",
      "Requirement already satisfied: contourpy>=1.0.1 in /home/rodrigo/.local/lib/python3.10/site-packages (from matplotlib!=3.6.1,>=3.4->seaborn) (1.3.1)\n",
      "Requirement already satisfied: cycler>=0.10 in /home/rodrigo/.local/lib/python3.10/site-packages (from matplotlib!=3.6.1,>=3.4->seaborn) (0.12.1)\n",
      "Requirement already satisfied: fonttools>=4.22.0 in /home/rodrigo/.local/lib/python3.10/site-packages (from matplotlib!=3.6.1,>=3.4->seaborn) (4.56.0)\n",
      "Requirement already satisfied: kiwisolver>=1.3.1 in /home/rodrigo/.local/lib/python3.10/site-packages (from matplotlib!=3.6.1,>=3.4->seaborn) (1.4.8)\n",
      "Requirement already satisfied: packaging>=20.0 in /home/rodrigo/.local/lib/python3.10/site-packages (from matplotlib!=3.6.1,>=3.4->seaborn) (24.2)\n",
      "Requirement already satisfied: pillow>=8 in /home/rodrigo/.local/lib/python3.10/site-packages (from matplotlib!=3.6.1,>=3.4->seaborn) (11.1.0)\n",
      "Requirement already satisfied: pyparsing>=2.3.1 in /usr/lib/python3/dist-packages (from matplotlib!=3.6.1,>=3.4->seaborn) (2.4.6)\n",
      "Requirement already satisfied: python-dateutil>=2.7 in /home/rodrigo/.local/lib/python3.10/site-packages (from matplotlib!=3.6.1,>=3.4->seaborn) (2.9.0.post0)\n",
      "Requirement already satisfied: pytz>=2020.1 in /home/rodrigo/.local/lib/python3.10/site-packages (from pandas>=1.2->seaborn) (2025.1)\n",
      "Requirement already satisfied: tzdata>=2022.7 in /home/rodrigo/.local/lib/python3.10/site-packages (from pandas>=1.2->seaborn) (2025.1)\n",
      "Requirement already satisfied: six>=1.5 in /home/rodrigo/.local/lib/python3.10/site-packages (from python-dateutil>=2.7->matplotlib!=3.6.1,>=3.4->seaborn) (1.17.0)\n",
      "Using cached seaborn-0.13.2-py3-none-any.whl (294 kB)\n",
      "Installing collected packages: seaborn\n",
      "Successfully installed seaborn-0.13.2\n"
     ]
    }
   ],
   "source": []
  },
  {
   "cell_type": "code",
   "execution_count": 6,
   "metadata": {},
   "outputs": [],
   "source": [
    "import pandas as pd\n",
    "import os\n",
    "import re\n",
    "import string\n",
    "import spacy\n",
    "from sklearn.feature_extraction.text import TfidfVectorizer\n",
    "from nltk.corpus import stopwords\n",
    "import nltk\n",
    "import numpy as np\n",
    "import matplotlib.pyplot as plt\n",
    "import seaborn as sns\n"
   ]
  },
  {
   "cell_type": "code",
   "execution_count": 8,
   "metadata": {},
   "outputs": [],
   "source": [
    "path = \"/home/rodrigo/Vídeos/Datathon/Datathon - FIAP+GloboPlay/Files\"\n",
    "pathUserInfo = path + \"/files/treino\"\n",
    "pathNewsInfo = path + \"/itens/itens\"\n",
    "\n",
    "def readCsv(path):\n",
    "    dataframes = []\n",
    "    for file in os.listdir(path):\n",
    "        caminho_arquivo = os.path.join(path, file)\n",
    "        if file.endswith(\".csv\"):\n",
    "            df = pd.read_csv(caminho_arquivo)\n",
    "            dataframes.append(df)\n",
    "    df_final = pd.concat(dataframes, ignore_index=True)\n",
    "    return df_final\n",
    "\n",
    "usersInfo = readCsv(pathUserInfo)\n",
    "newsInfo = readCsv(pathNewsInfo)"
   ]
  },
  {
   "cell_type": "code",
   "execution_count": 8,
   "metadata": {},
   "outputs": [
    {
     "data": {
      "text/plain": [
       "[['13db0ab1-eea2-4603-84c4-f40a876c7400',\n",
       "  'http://g1.globo.com/am/amazonas/noticia/2022/06/18/caso-bruno-e-dom-3o-suspeito-tem-prisao-temporaria-decretada-pela-justica-do-am.ghtml',\n",
       "  '2022-06-18 20:37:45+00:00',\n",
       "  '2023-04-15 00:02:08+00:00',\n",
       "  'Caso Bruno e Dom: 3º suspeito tem prisão temporária decretada pela Justiça do AM',\n",
       "  'Após audiência de custódia, a Justiça do Amazonas decretou, na tarde deste sábado (18), a prisão temporária,  por 30 dias, de Jeferson da Silva Lima, conhecido como \"Pelado da Dinha\". Ele teve participação direta na morte do indigenista Bruno Pereira e do jornalista inglês Dom Phillips, aponta as investigações. \\n\"Pelado da Dinha\" foi considerado foragido na noite de sexta-feira (17) após ter o mandado de prisão expedido e não ser localizado pelas autoridades. Ele se entregou na delegacia de Atalaia do Norte, a 1.136 quilômetros de Manaus, nas primeiras horas da manhã deste sábado, onde foi ouvido pelo delegado Alex Perez Timóteo. \\n\"Pelado da Dinha\" foi considerado foragido na noite de sexta-feira (17) após ter o mandado de prisão expedido \\nRôney Elias/Rede Amazônica \\nDurante a tarde, Jeferson foi escoltado por agentes da Polícia Federal ao Fórum de Justiça do município para a audiência de custódia e teve a prisão temporária decretada. \\nPerícia confirma identificação dos restos mortais de Bruno Pereira\\nO delegado afirmou que, segundo as investigações, Jeferson tem participação direta no caso, desde a emboscada até a ocultação dos corpos.  \"Conforme todas as provas, todos os depoimentos colhidos até o momento, ele estava na cena do crime e participou ativamente do duplo homicídio ocorrido\", disse.\\nAssim como os outros dois presos, o prazo de 30 dias da prisão temporária de Jeferson pode ser prorrogado por mais 30. O processo tramita sob Segredo de Justiça.\\nA audiência de custódia foi realizada de forma híbrida- com a juíza, o investigado e o promotor de Justiça\\nTjam \\nIrmãos presos\\nNo dia 9 de junho, a Justiça decretou a prisão temporária de Amarildo da Costa de Oliveira, conhecido como \"Pelado\", que confessou o crime no dia 15, um dia após o irmão Oseney da Costa de Oliveira, conhecido como \"Dos Santos\", ter sido preso.\\nTambém no dia 15 de junho, a Justiça decretou a prisão temporária de Oseney. Os três suspeitos seguem detidos na carceragem da 50ª Delegacia Interativa de Polícia (DIP) de Atalaia de Norte. \\nBruno e Dom foram mortos a tiros \\nUm laudo de peritos da Polícia Federal confirmou, neste sábado (18), que o indigenista Bruno Araújo Pereira e o jornalista inglês Dom Phillips foram mortos a tiros, com munição de caça. \\nSegundo a análise, Bruno foi atingido por três disparos, dois no tórax e um na cabeça. Já Dom foi baleado uma vez, no tórax.\\nLEIA TAMBÉM: \\nPF confirma que restos mortais encontrados na Amazônia são do indigenista Bruno Pereira\\nPerícia da PF confirma que restos mortais encontrados na Amazônia são do jornalista Dom Phillips\\nBuscas pela embarcação\\nNeste sábado (18) continuam as buscas pela embarcação que transportava Bruno Pereira e Dom Phillips. Na sexta-feira (17), as ações das forças de segurança encerraram no final da tarde.\\nA região onde as buscas se concentram foi apontada por Amarildo da Costa Oliveira. Ele também indicou à polícia o local onde a embarcação foi afundada e a área onde os corpos das vítimas foram ocultados.\\nMotivação\\nA motivação do crime ainda é incerta, mas a polícia apura se há relação com a atividade de pesca ilegal e tráfico de drogas na região. Segunda maior terra indígena do país, o Vale do Javari é palco de conflitos típicos da Amazônia: desmatamento e avanço do garimpo.\\nAras e procuradores vão ao AM\\nO procurador-geral da República, Augusto Aras, e membros do Ministério Público Federal viajam a Tabatinga, no Amazonas, neste domingo (19).\\n O grupo deve participar de reuniões sobre a insegurança na Amazônia e, também, acompanhar os desdobramentos do assassinato do indigenista Bruno Pereira e do jornalista britânico Dom Phillips.\\n(CORREÇÃO: o Jornal Nacional errou no dia 18 de junho de 2022 ao exibir a imagem de um outro homem, de nome parecido, como se fosse Jeferson da Silva Lima, suspeito de participar do assassinato de Bruno Pereira e Dom Phillips no Vale do Javari, no Amazonas. O suspeito Jeferson da Silva Lima é este homem que você na foto abaixo. O Jornal Nacional pede desculpas a você e, em especial, ao homem cuja foto tinha sido exibida erroneamente.)\\nJeferson da Silva Lima, suspeito de participar do assassinato de Bruno Pereira e Dom Phillips no Vale do Javari, no Amazonas\\nJornal Nacional\\nOs vídeos mais assistidos do Amazonas:',\n",
       "  'Jeferson da Silva Lima foi escoltado por agentes da Polícia Federal ao Fórum de Justiça do município para a audiência de custódia']]"
      ]
     },
     "execution_count": 8,
     "metadata": {},
     "output_type": "execute_result"
    }
   ],
   "source": [
    "newsInfo.head(1).values.tolist()"
   ]
  },
  {
   "cell_type": "code",
   "execution_count": 9,
   "metadata": {},
   "outputs": [
    {
     "name": "stdout",
     "output_type": "stream",
     "text": [
      "(577942, 10)\n",
      "(255603, 7)\n"
     ]
    }
   ],
   "source": [
    "print(usersInfo.shape)\n",
    "print(newsInfo.shape)"
   ]
  },
  {
   "cell_type": "code",
   "execution_count": 10,
   "metadata": {},
   "outputs": [],
   "source": [
    "#Limpesa dos dados\n",
    "def clear_dataframes(df:pd.DataFrame):\n",
    "    df = df.dropna()\n",
    "    df = df.drop_duplicates()\n",
    "    if(\"timestampHistory_new\" in df.columns):\n",
    "        df = df.drop(columns=[\"timestampHistory_new\"])\n",
    "    return df\n",
    "\n",
    "usersInfo = clear_dataframes(usersInfo)\n",
    "newsInfo = clear_dataframes(newsInfo)\n",
    "\n"
   ]
  },
  {
   "cell_type": "code",
   "execution_count": 11,
   "metadata": {},
   "outputs": [],
   "source": [
    "#Ajustando tipos \n",
    "def convert_to_list(value, dtype):\n",
    "    if pd.isna(value) or value == '':\n",
    "        return []\n",
    "    return list(map(dtype, value.split(',')))\n",
    "\n",
    "def ajusting_types(df:pd.DataFrame, value):\n",
    "    if(value):\n",
    "        df['userId'] = df['userId'].astype('string')\n",
    "        df['userType'] = df['userType'].astype('category')\n",
    "        df['historySize'] = df['historySize'].astype('Int64')\n",
    "        df['history'] = df['history'].apply(lambda x: convert_to_list(x, str))      \n",
    "        df['timestampHistory'] = df['timestampHistory'].apply(lambda x: convert_to_list(x, int))\n",
    "        df['numberOfClicksHistory'] = df['numberOfClicksHistory'].apply(lambda x: convert_to_list(x, int))\n",
    "        df['timeOnPageHistory'] = df['timeOnPageHistory'].apply(lambda x: convert_to_list(x, int))\n",
    "        df['scrollPercentageHistory'] = df['scrollPercentageHistory'].apply(lambda x: convert_to_list(x, float))\n",
    "        df['pageVisitsCountHistory'] = df['pageVisitsCountHistory'].apply(lambda x: convert_to_list(x, int))\n",
    "    else:\n",
    "        df['page'] = df['page'].astype('string')  \n",
    "        df['url'] = df['url'].astype('string') \n",
    "        df['issued'] = pd.to_datetime(df['issued'], utc=True)  \n",
    "        df['modified'] = pd.to_datetime(df['modified'], utc=True)  \n",
    "        df['title'] = df['title'].astype('string')  \n",
    "        df['body'] = df['body'].astype('string')  \n",
    "        df['caption'] = df['caption'].astype('string')  \n",
    "        \n",
    "    return df\n",
    "\n",
    "usersInfo = ajusting_types(usersInfo, True)\n",
    "newsInfo = ajusting_types(newsInfo, False)\n"
   ]
  },
  {
   "cell_type": "code",
   "execution_count": 28,
   "metadata": {},
   "outputs": [],
   "source": [
    "#Garantindo que historySize seja seguido nas colunas list_columns_with_same_size\n",
    "list_columns_with_same_size = ['history', 'timestampHistory', 'numberOfClicksHistory', \n",
    "                                'timeOnPageHistory', 'scrollPercentageHistory', 'pageVisitsCountHistory']\n",
    "\n",
    "def length_validate(row):\n",
    "    history_size = row['historySize']\n",
    "    return all(len(row[col]) == history_size for col in list_columns_with_same_size)\n",
    "\n",
    "usersInfo = usersInfo[usersInfo.apply(length_validate, axis=1)]"
   ]
  },
  {
   "cell_type": "code",
   "execution_count": 87,
   "metadata": {},
   "outputs": [],
   "source": [
    "import math\n",
    "\n",
    "pesos = {\n",
    "            'timeOnPageHistory': 0.3,\n",
    "            'scrollPercentageHistory': 0.3,\n",
    "            'numberOfClicksHistory': 0.2,\n",
    "            'pageVisitsCountHistory': 0.2\n",
    "        }\n",
    "\n",
    "def ms_to_hours(milliseconds):\n",
    "        return milliseconds / (1000 * 60 * 60)\n",
    "\n",
    "def calc_decay(tempo_em_horas):\n",
    "    return max(math.exp(-0.01 * tempo_em_horas), 0.00001)\n",
    "\n",
    "def calc_weighted_engagement(row):\n",
    "    weighted_engagements = []\n",
    "    for i in range(len(row['timeOnPageHistory'])):\n",
    "        engagement_score = (\n",
    "            row['timeOnPageHistory'][i] * pesos['timeOnPageHistory'] +\n",
    "            row['scrollPercentageHistory'][i] * pesos['scrollPercentageHistory'] +\n",
    "            row['numberOfClicksHistory'][i] * pesos['numberOfClicksHistory'] +\n",
    "            row['pageVisitsCountHistory'][i] * pesos['pageVisitsCountHistory']\n",
    "        )\n",
    "        tempo_em_horas = ms_to_hours(row['timestampHistory'][i])\n",
    "        decay = calc_decay(tempo_em_horas)\n",
    "        weighted_engagement = engagement_score * decay\n",
    "        weighted_engagements.append(weighted_engagement)\n",
    "    \n",
    "    return weighted_engagements\n",
    "\n",
    "usersInfo[\"weighted_engagement\"] = usersInfo.apply(calc_weighted_engagement,axis=1)"
   ]
  },
  {
   "cell_type": "code",
   "execution_count": null,
   "metadata": {},
   "outputs": [],
   "source": [
    "#So pra me salvar e verificar\n",
    "usersInfo_copy = usersInfo\n",
    "newsInfo_copy = newsInfo\n",
    "print(usersInfo.shape)\n",
    "print(newsInfo.shape)\n",
    "print(usersInfo.head(2))\n",
    "print(newsInfo.head(2))"
   ]
  },
  {
   "cell_type": "code",
   "execution_count": 12,
   "metadata": {},
   "outputs": [],
   "source": [
    "import matplotlib.pyplot as plt\n",
    "import seaborn as sns\n",
    "\n",
    "df_exploded = usersInfo.explode(['timeOnPageHistory', 'scrollPercentageHistory', 'numberOfClicksHistory'])\n",
    "\n",
    "# Converter colunas explodidas para numérico (caso tenham valores em string)\n",
    "df_exploded['timeOnPageHistory'] = pd.to_numeric(df_exploded['timeOnPageHistory'])\n",
    "df_exploded['scrollPercentageHistory'] = pd.to_numeric(df_exploded['scrollPercentageHistory'])\n",
    "df_exploded['numberOfClicksHistory'] = pd.to_numeric(df_exploded['numberOfClicksHistory'])\n",
    "\n",
    "# Amostrar para evitar sobrecarga nos gráficos\n",
    "df_sample = df_exploded.sample(300000, random_state=42)\n"
   ]
  },
  {
   "cell_type": "code",
   "execution_count": 14,
   "metadata": {},
   "outputs": [
    {
     "data": {
      "image/png": "[encoded data removed]",
      "text/plain": [
       "<Figure size 1200x600 with 1 Axes>"
      ]
     },
     "metadata": {},
     "output_type": "display_data"
    }
   ],
   "source": [
    "plt.figure(figsize=(12, 6))\n",
    "\n",
    "sns.boxplot(data=df_sample[['timeOnPageHistory', 'scrollPercentageHistory', 'numberOfClicksHistory']])\n",
    "plt.xticks(rotation=45)\n",
    "plt.title(\"Boxplot das Métricas de Usuário\")\n",
    "plt.savefig(\"/home/rodrigo/Vídeos/Datathon/Datathon - FIAP+GloboPlay/figures/boxplot_metrica_usuario.png\", dpi=300, bbox_inches='tight')\n",
    "plt.show()"
   ]
  },
  {
   "cell_type": "code",
   "execution_count": 16,
   "metadata": {},
   "outputs": [
    {
     "data": {
      "image/png": "[encoded data removed]",
      "text/plain": [
       "<Figure size 1000x600 with 1 Axes>"
      ]
     },
     "metadata": {},
     "output_type": "display_data"
    }
   ],
   "source": [
    "plt.figure(figsize=(10, 6))\n",
    "\n",
    "sns.scatterplot(data=df_sample, x=\"timeOnPageHistory\", y=\"scrollPercentageHistory\", alpha=0.3)\n",
    "\n",
    "plt.title(\"Relação entre Tempo na Página e Número de Cliques\")\n",
    "plt.xlabel(\"Tempo na Página (ms)\")\n",
    "plt.ylabel(\"Número de Cliques\")\n",
    "plt.savefig(\"/home/rodrigo/Vídeos/Datathon/Datathon - FIAP+GloboPlay/figures/relation_time_and_scroll.png\", dpi=300, bbox_inches='tight')\n",
    "plt.show()"
   ]
  },
  {
   "cell_type": "code",
   "execution_count": 35,
   "metadata": {},
   "outputs": [],
   "source": [
    "#Limpando dados onde timeOnPageHistory possui valores:\n",
    "#Menor que 10s, o conteúdo não era relevante, clicado na página por acidente, Títulos ou descrições que não atraíram\n",
    "#Maior que 1h (Não vou fazer isso por enquanto), posso considerar que se a pessoa esqueceu aberto talvez foi para ler mais tarde\n",
    "\n",
    "def clean_data(row, scroll_threshold=10, min_time_threshold=10000, max_time_threshold=1000000, max_click_in_page_threshold = 200):\n",
    "    #Excluindo timeOnPageHistory < 10s\n",
    "    #Excluindo timeOnPageHistory > 1000s (Pois o usuário pode ter deixado aberto e esquecido)\n",
    "    #Excluindo Baixa acertividade na noticia baseado no interesse do srool\n",
    "    delete_index = [i for i, (scrollInPage, timeInPage, clickInPage) in enumerate(zip(row['scrollPercentageHistory'], row['timeOnPageHistory'], row['numberOfClicksHistory'] ))\n",
    "                    if  (scrollInPage < scroll_threshold) or \n",
    "                        (scrollInPage >= scroll_threshold and timeInPage < min_time_threshold) or\n",
    "                        (timeInPage > max_time_threshold) or\n",
    "                        (clickInPage > max_click_in_page_threshold)]\n",
    "    \n",
    "    #Resolver o if acima, n pode ser or\n",
    "    # Se houver índices a excluir\n",
    "    if len(delete_index) > 0:\n",
    "        if len(delete_index) == len(row['timeOnPageHistory']):\n",
    "            return pd.Series()\n",
    "\n",
    "        for col in list_columns_with_same_size:\n",
    "            row[col] = [line for i, line in enumerate(row[col]) if i not in delete_index]\n",
    "\n",
    "        row['historySize'] = int(row['historySize'] - len(delete_index))\n",
    "\n",
    "    return row\n",
    "        \n",
    "\n",
    "usersInfo = usersInfo.apply(clean_data, axis=1)\n",
    "usersInfo = usersInfo.dropna()"
   ]
  },
  {
   "cell_type": "code",
   "execution_count": 53,
   "metadata": {},
   "outputs": [],
   "source": [
    "usersInfo.to_csv('/home/rodrigo/Vídeos/Datathon/Datathon - FIAP+GloboPlay/files_modify/usersInfo_pre1.csv', index=False, encoding='utf-8')\n",
    "newsInfo.to_csv('/home/rodrigo/Vídeos/Datathon/Datathon - FIAP+GloboPlay/files_modify/newsInfo_pre1.csv', index=False, encoding='utf-8')\n"
   ]
  },
  {
   "cell_type": "code",
   "execution_count": null,
   "metadata": {},
   "outputs": [],
   "source": [
    "print(usersInfo.shape)\n",
    "print(newsInfo.shape)\n"
   ]
  },
  {
   "cell_type": "code",
   "execution_count": 25,
   "metadata": {},
   "outputs": [],
   "source": [
    "usersInfo = pd.read_csv(\"/home/rodrigo/Vídeos/Datathon/Datathon - FIAP+GloboPlay/TestesJupiterNotebook/usersInfo_pre1.csv\")\n",
    "#newsInfo = pd.read_csv(\"/home/rodrigo/Vídeos/Datathon/Datathon - FIAP+GloboPlay/TestesJupiterNotebook/usersInfo_pre1.csv.csv\")"
   ]
  },
  {
   "cell_type": "code",
   "execution_count": 29,
   "metadata": {},
   "outputs": [
    {
     "data": {
      "text/plain": [
       "'[4, 41, 6, 0, 0, 1, 1, 1, 21, 79, 25, 1]'"
      ]
     },
     "execution_count": 29,
     "metadata": {},
     "output_type": "execute_result"
    }
   ],
   "source": [
    "usersInfo[\"numberOfClicksHistory\"][0]\n"
   ]
  },
  {
   "cell_type": "code",
   "execution_count": 26,
   "metadata": {},
   "outputs": [
    {
     "data": {
      "text/html": [
       "<div>\n",
       "<style scoped>\n",
       "    .dataframe tbody tr th:only-of-type {\n",
       "        vertical-align: middle;\n",
       "    }\n",
       "\n",
       "    .dataframe tbody tr th {\n",
       "        vertical-align: top;\n",
       "    }\n",
       "\n",
       "    .dataframe thead th {\n",
       "        text-align: right;\n",
       "    }\n",
       "</style>\n",
       "<table border=\"1\" class=\"dataframe\">\n",
       "  <thead>\n",
       "    <tr style=\"text-align: right;\">\n",
       "      <th></th>\n",
       "      <th>userId</th>\n",
       "      <th>userType</th>\n",
       "      <th>historySize</th>\n",
       "      <th>history</th>\n",
       "      <th>timestampHistory</th>\n",
       "      <th>numberOfClicksHistory</th>\n",
       "      <th>timeOnPageHistory</th>\n",
       "      <th>scrollPercentageHistory</th>\n",
       "      <th>pageVisitsCountHistory</th>\n",
       "    </tr>\n",
       "  </thead>\n",
       "  <tbody>\n",
       "    <tr>\n",
       "      <th>0</th>\n",
       "      <td>e5f68d5e7cdbe56d6984589b4baa6ebfc5e8a8a918e57d...</td>\n",
       "      <td>Logged</td>\n",
       "      <td>12.0</td>\n",
       "      <td>[\"50028008-aa11-4519-9d75-452c84dd27fb\", \" d03...</td>\n",
       "      <td>[1657264136826, 1657552410329, 1657552529759, ...</td>\n",
       "      <td>[4, 41, 6, 0, 0, 1, 1, 1, 21, 79, 25, 1]</td>\n",
       "      <td>[10081, 70000, 12216, 90000, 161291, 346113, 7...</td>\n",
       "      <td>[16.34, 79.35, 13.36, 37.95, 73.83, 68.98, 51....</td>\n",
       "      <td>[1, 1, 1, 1, 1, 1, 1, 1, 1, 1, 1, 1]</td>\n",
       "    </tr>\n",
       "    <tr>\n",
       "      <th>1</th>\n",
       "      <td>3a3b7f25a30a5a17a530685545e3a0be38cee0c6904c42...</td>\n",
       "      <td>Logged</td>\n",
       "      <td>93.0</td>\n",
       "      <td>[\"561850c2-9ade-4985-bf36-402abf02153d\", \" c4a...</td>\n",
       "      <td>[1656683068549, 1656692064526, 1656696714488, ...</td>\n",
       "      <td>[6, 9, 19, 20, 14, 9, 13, 21, 9, 20, 50, 16, 1...</td>\n",
       "      <td>[28139, 70000, 230000, 120000, 78858, 50000, 3...</td>\n",
       "      <td>[21.82, 51.35, 93.4, 81.35, 78.47, 37.43, 27.3...</td>\n",
       "      <td>[1, 1, 1, 1, 1, 1, 1, 1, 1, 1, 1, 1, 1, 1, 1, ...</td>\n",
       "    </tr>\n",
       "    <tr>\n",
       "      <th>2</th>\n",
       "      <td>ea6728ebc30782516a7593a1143c47dc59428e1649c048...</td>\n",
       "      <td>Logged</td>\n",
       "      <td>6.0</td>\n",
       "      <td>[\" 9a7695fe-83b3-44f3-aa45-a02d75e5052a\", \" 5c...</td>\n",
       "      <td>[1657834031446, 1657895788959, 1658329023059, ...</td>\n",
       "      <td>[0, 3, 2, 29, 8, 13]</td>\n",
       "      <td>[70000, 10928, 10112, 165124, 30000, 60000]</td>\n",
       "      <td>[81.2, 24.18, 16.33, 44.95, 16.09, 30.43]</td>\n",
       "      <td>[1, 1, 1, 1, 2, 1]</td>\n",
       "    </tr>\n",
       "    <tr>\n",
       "      <th>3</th>\n",
       "      <td>f909c50558c01ab790636e1b1918e6a5965bdcc271a860...</td>\n",
       "      <td>Non-Logged</td>\n",
       "      <td>19.0</td>\n",
       "      <td>[\"598ed114-fd5a-4d82-90d8-f1e893cb0892\", \" 921...</td>\n",
       "      <td>[1656872519048, 1656895522162, 1656952360252, ...</td>\n",
       "      <td>[0, 0, 0, 0, 0, 0, 0, 0, 0, 9, 0, 0, 0, 0, 0, ...</td>\n",
       "      <td>[30007, 43153, 41626, 39675, 12100, 40000, 488...</td>\n",
       "      <td>[12.5, 12.5, 12.5, 12.5, 12.5, 12.5, 12.5, 12....</td>\n",
       "      <td>[1, 1, 1, 1, 1, 1, 1, 1, 1, 1, 1, 1, 1, 1, 1, ...</td>\n",
       "    </tr>\n",
       "    <tr>\n",
       "      <th>4</th>\n",
       "      <td>9725352f759a73aa977cb5eff2596a5f683fcd0c753200...</td>\n",
       "      <td>Logged</td>\n",
       "      <td>32.0</td>\n",
       "      <td>[\"80753b6f-d65c-4962-9f2e-ef582cce0de0\", \" 975...</td>\n",
       "      <td>[1656762806361, 1656764327095, 1656782770362, ...</td>\n",
       "      <td>[6, 16, 0, 0, 6, 1, 1, 0, 0, 0, 0, 0, 3, 1, 5,...</td>\n",
       "      <td>[100000, 110000, 50000, 68291, 60000, 10000, 9...</td>\n",
       "      <td>[49.25, 66.86, 71.52, 59.33, 37.27, 14.77, 54....</td>\n",
       "      <td>[1, 1, 1, 1, 1, 1, 1, 1, 1, 1, 1, 1, 3, 1, 1, ...</td>\n",
       "    </tr>\n",
       "    <tr>\n",
       "      <th>...</th>\n",
       "      <td>...</td>\n",
       "      <td>...</td>\n",
       "      <td>...</td>\n",
       "      <td>...</td>\n",
       "      <td>...</td>\n",
       "      <td>...</td>\n",
       "      <td>...</td>\n",
       "      <td>...</td>\n",
       "      <td>...</td>\n",
       "    </tr>\n",
       "    <tr>\n",
       "      <th>545791</th>\n",
       "      <td>2577444c60e7e1894b120b966031b66c08f696101a085f...</td>\n",
       "      <td>Non-Logged</td>\n",
       "      <td>4.0</td>\n",
       "      <td>[\"82206221-05a0-4f89-aa10-e8c8dc0cc418\", \" bfb...</td>\n",
       "      <td>[1656864715643, 1658103612200, 1659107526581, ...</td>\n",
       "      <td>[36, 50, 1, 7]</td>\n",
       "      <td>[20000, 74626, 10000, 10000]</td>\n",
       "      <td>[40.53, 45.76, 11.34, 18.25]</td>\n",
       "      <td>[1, 2, 1, 1]</td>\n",
       "    </tr>\n",
       "    <tr>\n",
       "      <th>545792</th>\n",
       "      <td>4325f2bbeed10d10868190e2f66e700621c04b63eebefd...</td>\n",
       "      <td>Non-Logged</td>\n",
       "      <td>1.0</td>\n",
       "      <td>[\"34a692f5-46f7-482a-918d-c1094fb314d5\"]</td>\n",
       "      <td>[1657392105652]</td>\n",
       "      <td>[28]</td>\n",
       "      <td>[74694]</td>\n",
       "      <td>[12.42]</td>\n",
       "      <td>[6]</td>\n",
       "    </tr>\n",
       "    <tr>\n",
       "      <th>545793</th>\n",
       "      <td>0ca60effb4a0f595cf838c95a4d3a417f02bb7edeaf659...</td>\n",
       "      <td>Non-Logged</td>\n",
       "      <td>3.0</td>\n",
       "      <td>[\"08126a08-b06e-4dc2-9c70-26922c14f465\", \" cde...</td>\n",
       "      <td>[1660154775574, 1660160550596, 1660162482895]</td>\n",
       "      <td>[2, 7, 1]</td>\n",
       "      <td>[54143, 37776, 18911]</td>\n",
       "      <td>[33.27, 50.1, 14.95]</td>\n",
       "      <td>[2, 1, 1]</td>\n",
       "    </tr>\n",
       "    <tr>\n",
       "      <th>545794</th>\n",
       "      <td>c07adf21d372ebc50752555fdfbc949e164d98d06d094f...</td>\n",
       "      <td>Logged</td>\n",
       "      <td>14.0</td>\n",
       "      <td>[\"bc625312-eb34-4f23-a281-499f1da183b4\", \" cee...</td>\n",
       "      <td>[1657201926509, 1657202207327, 1657541602224, ...</td>\n",
       "      <td>[1, 0, 3, 0, 0, 0, 0, 1, 6, 0, 1, 8, 25, 6]</td>\n",
       "      <td>[50000, 71013, 160000, 40000, 68795, 20008, 47...</td>\n",
       "      <td>[50.45, 50.45, 49.19, 32.09, 14.15, 26.19, 25....</td>\n",
       "      <td>[1, 1, 2, 1, 1, 2, 1, 1, 2, 1, 1, 1, 1, 1]</td>\n",
       "    </tr>\n",
       "    <tr>\n",
       "      <th>545795</th>\n",
       "      <td>5889d6ebbf62e6c115e0a280063dc8189cca490cbfea56...</td>\n",
       "      <td>Non-Logged</td>\n",
       "      <td>13.0</td>\n",
       "      <td>[\"1f32787b-de2b-49be-8c20-ddaeae34cc22\", \" a36...</td>\n",
       "      <td>[1656781278064, 1656867878637, 1656936160322, ...</td>\n",
       "      <td>[23, 16, 36, 13, 56, 23, 1, 33, 64, 76, 14, 26...</td>\n",
       "      <td>[140000, 110000, 170000, 66541, 250000, 90000,...</td>\n",
       "      <td>[92.61, 34.37, 53.41, 31.74, 99.36, 84.68, 32....</td>\n",
       "      <td>[1, 1, 1, 1, 1, 1, 1, 1, 1, 1, 1, 1, 1]</td>\n",
       "    </tr>\n",
       "  </tbody>\n",
       "</table>\n",
       "<p>545796 rows × 9 columns</p>\n",
       "</div>"
      ],
      "text/plain": [
       "                                                   userId    userType  \\\n",
       "0       e5f68d5e7cdbe56d6984589b4baa6ebfc5e8a8a918e57d...      Logged   \n",
       "1       3a3b7f25a30a5a17a530685545e3a0be38cee0c6904c42...      Logged   \n",
       "2       ea6728ebc30782516a7593a1143c47dc59428e1649c048...      Logged   \n",
       "3       f909c50558c01ab790636e1b1918e6a5965bdcc271a860...  Non-Logged   \n",
       "4       9725352f759a73aa977cb5eff2596a5f683fcd0c753200...      Logged   \n",
       "...                                                   ...         ...   \n",
       "545791  2577444c60e7e1894b120b966031b66c08f696101a085f...  Non-Logged   \n",
       "545792  4325f2bbeed10d10868190e2f66e700621c04b63eebefd...  Non-Logged   \n",
       "545793  0ca60effb4a0f595cf838c95a4d3a417f02bb7edeaf659...  Non-Logged   \n",
       "545794  c07adf21d372ebc50752555fdfbc949e164d98d06d094f...      Logged   \n",
       "545795  5889d6ebbf62e6c115e0a280063dc8189cca490cbfea56...  Non-Logged   \n",
       "\n",
       "        historySize                                            history  \\\n",
       "0              12.0  [\"50028008-aa11-4519-9d75-452c84dd27fb\", \" d03...   \n",
       "1              93.0  [\"561850c2-9ade-4985-bf36-402abf02153d\", \" c4a...   \n",
       "2               6.0  [\" 9a7695fe-83b3-44f3-aa45-a02d75e5052a\", \" 5c...   \n",
       "3              19.0  [\"598ed114-fd5a-4d82-90d8-f1e893cb0892\", \" 921...   \n",
       "4              32.0  [\"80753b6f-d65c-4962-9f2e-ef582cce0de0\", \" 975...   \n",
       "...             ...                                                ...   \n",
       "545791          4.0  [\"82206221-05a0-4f89-aa10-e8c8dc0cc418\", \" bfb...   \n",
       "545792          1.0           [\"34a692f5-46f7-482a-918d-c1094fb314d5\"]   \n",
       "545793          3.0  [\"08126a08-b06e-4dc2-9c70-26922c14f465\", \" cde...   \n",
       "545794         14.0  [\"bc625312-eb34-4f23-a281-499f1da183b4\", \" cee...   \n",
       "545795         13.0  [\"1f32787b-de2b-49be-8c20-ddaeae34cc22\", \" a36...   \n",
       "\n",
       "                                         timestampHistory  \\\n",
       "0       [1657264136826, 1657552410329, 1657552529759, ...   \n",
       "1       [1656683068549, 1656692064526, 1656696714488, ...   \n",
       "2       [1657834031446, 1657895788959, 1658329023059, ...   \n",
       "3       [1656872519048, 1656895522162, 1656952360252, ...   \n",
       "4       [1656762806361, 1656764327095, 1656782770362, ...   \n",
       "...                                                   ...   \n",
       "545791  [1656864715643, 1658103612200, 1659107526581, ...   \n",
       "545792                                    [1657392105652]   \n",
       "545793      [1660154775574, 1660160550596, 1660162482895]   \n",
       "545794  [1657201926509, 1657202207327, 1657541602224, ...   \n",
       "545795  [1656781278064, 1656867878637, 1656936160322, ...   \n",
       "\n",
       "                                    numberOfClicksHistory  \\\n",
       "0                [4, 41, 6, 0, 0, 1, 1, 1, 21, 79, 25, 1]   \n",
       "1       [6, 9, 19, 20, 14, 9, 13, 21, 9, 20, 50, 16, 1...   \n",
       "2                                    [0, 3, 2, 29, 8, 13]   \n",
       "3       [0, 0, 0, 0, 0, 0, 0, 0, 0, 9, 0, 0, 0, 0, 0, ...   \n",
       "4       [6, 16, 0, 0, 6, 1, 1, 0, 0, 0, 0, 0, 3, 1, 5,...   \n",
       "...                                                   ...   \n",
       "545791                                     [36, 50, 1, 7]   \n",
       "545792                                               [28]   \n",
       "545793                                          [2, 7, 1]   \n",
       "545794        [1, 0, 3, 0, 0, 0, 0, 1, 6, 0, 1, 8, 25, 6]   \n",
       "545795  [23, 16, 36, 13, 56, 23, 1, 33, 64, 76, 14, 26...   \n",
       "\n",
       "                                        timeOnPageHistory  \\\n",
       "0       [10081, 70000, 12216, 90000, 161291, 346113, 7...   \n",
       "1       [28139, 70000, 230000, 120000, 78858, 50000, 3...   \n",
       "2             [70000, 10928, 10112, 165124, 30000, 60000]   \n",
       "3       [30007, 43153, 41626, 39675, 12100, 40000, 488...   \n",
       "4       [100000, 110000, 50000, 68291, 60000, 10000, 9...   \n",
       "...                                                   ...   \n",
       "545791                       [20000, 74626, 10000, 10000]   \n",
       "545792                                            [74694]   \n",
       "545793                              [54143, 37776, 18911]   \n",
       "545794  [50000, 71013, 160000, 40000, 68795, 20008, 47...   \n",
       "545795  [140000, 110000, 170000, 66541, 250000, 90000,...   \n",
       "\n",
       "                                  scrollPercentageHistory  \\\n",
       "0       [16.34, 79.35, 13.36, 37.95, 73.83, 68.98, 51....   \n",
       "1       [21.82, 51.35, 93.4, 81.35, 78.47, 37.43, 27.3...   \n",
       "2               [81.2, 24.18, 16.33, 44.95, 16.09, 30.43]   \n",
       "3       [12.5, 12.5, 12.5, 12.5, 12.5, 12.5, 12.5, 12....   \n",
       "4       [49.25, 66.86, 71.52, 59.33, 37.27, 14.77, 54....   \n",
       "...                                                   ...   \n",
       "545791                       [40.53, 45.76, 11.34, 18.25]   \n",
       "545792                                            [12.42]   \n",
       "545793                               [33.27, 50.1, 14.95]   \n",
       "545794  [50.45, 50.45, 49.19, 32.09, 14.15, 26.19, 25....   \n",
       "545795  [92.61, 34.37, 53.41, 31.74, 99.36, 84.68, 32....   \n",
       "\n",
       "                                   pageVisitsCountHistory  \n",
       "0                    [1, 1, 1, 1, 1, 1, 1, 1, 1, 1, 1, 1]  \n",
       "1       [1, 1, 1, 1, 1, 1, 1, 1, 1, 1, 1, 1, 1, 1, 1, ...  \n",
       "2                                      [1, 1, 1, 1, 2, 1]  \n",
       "3       [1, 1, 1, 1, 1, 1, 1, 1, 1, 1, 1, 1, 1, 1, 1, ...  \n",
       "4       [1, 1, 1, 1, 1, 1, 1, 1, 1, 1, 1, 1, 3, 1, 1, ...  \n",
       "...                                                   ...  \n",
       "545791                                       [1, 2, 1, 1]  \n",
       "545792                                                [6]  \n",
       "545793                                          [2, 1, 1]  \n",
       "545794         [1, 1, 2, 1, 1, 2, 1, 1, 2, 1, 1, 1, 1, 1]  \n",
       "545795            [1, 1, 1, 1, 1, 1, 1, 1, 1, 1, 1, 1, 1]  \n",
       "\n",
       "[545796 rows x 9 columns]"
      ]
     },
     "execution_count": 26,
     "metadata": {},
     "output_type": "execute_result"
    }
   ],
   "source": [
    "usersInfo"
   ]
  },
  {
   "cell_type": "code",
   "execution_count": 14,
   "metadata": {},
   "outputs": [
    {
     "name": "stderr",
     "output_type": "stream",
     "text": [
      "[nltk_data] Downloading package stopwords to\n",
      "[nltk_data]     /home/rodrigo/nltk_data...\n",
      "[nltk_data]   Package stopwords is already up-to-date!\n"
     ]
    }
   ],
   "source": [
    "import re\n",
    "import spacy\n",
    "import nltk\n",
    "import pandas as pd\n",
    "import string\n",
    "from nltk.corpus import stopwords\n",
    "\n",
    "# Carregar modelo de linguagem para lematização\n",
    "nlp = spacy.load(\"pt_core_news_md\")\n",
    "\n",
    "# Baixar stopwords em português\n",
    "nltk.download('stopwords')\n",
    "stopwords_pt = set(stopwords.words('portuguese'))\n",
    "\n",
    "# Função para remover acentos\n",
    "def remove_accent(text):\n",
    "    return re.sub(r\"[áàãâäéèêëíìîïóòôõöúùûüç]\", \n",
    "                  lambda m: \"aaaaaeeeeiiiiooooouuuuc\"[\"áàãâäéèêëíìîïóòôõöúùûüç\".index(m.group())], \n",
    "                  text)\n",
    "\n",
    "# Função otimizada de pré-processamento\n",
    "def preprocess_text(text):\n",
    "    if pd.isna(text) or not isinstance(text, str):  \n",
    "        return text\n",
    "\n",
    "    text = remove_accent(text.lower())  # Remove acentos e coloca em minúsculas\n",
    "    text = re.sub(r\"\\d+º?\", \"\", text)  # Remove números\n",
    "\n",
    "    # Tokenização + lematização\n",
    "    #doc = nlp(text)\n",
    "    #tokens = [token.lemma_ for token in doc if token.text not in stopwords_pt and token.text not in string.punctuation]\n",
    "    \n",
    "    doc = nlp(text)\n",
    "    tokens = [token.text for token in doc if token.text not in stopwords_pt and token.text not in string.punctuation]\n",
    "\n",
    "    return \" \".join(tokens)\n",
    "\n"
   ]
  },
  {
   "cell_type": "code",
   "execution_count": 18,
   "metadata": {},
   "outputs": [],
   "source": [
    "#newsInfo[\"processed_text\"] = (newsInfo[\"title\"] + \" \" + newsInfo[\"caption\"]).map(preprocess_text)\n",
    "b = newsInfo[0:50]\n",
    "a = (b[\"title\"] + \" \" + b[\"caption\"]).map(preprocess_text)"
   ]
  },
  {
   "cell_type": "code",
   "execution_count": 26,
   "metadata": {},
   "outputs": [
    {
     "name": "stderr",
     "output_type": "stream",
     "text": [
      "/usr/bin/python: No module named spacy\n"
     ]
    },
    {
     "data": {
      "text/plain": [
       "CompletedProcess(args=['python', '-m', 'spacy', 'download', 'pt_core_news_md'], returncode=1)"
      ]
     },
     "execution_count": 26,
     "metadata": {},
     "output_type": "execute_result"
    }
   ],
   "source": [
    "import subprocess\n",
    "\n",
    "subprocess.run([\"python\", \"-m\", \"spacy\", \"download\", \"pt_core_news_md\"], cwd=\"/home/rodrigo/Vídeos/Datathon/Datathon - FIAP+GloboPlay/models\")"
   ]
  },
  {
   "cell_type": "code",
   "execution_count": null,
   "metadata": {},
   "outputs": [],
   "source": [
    "import re\n",
    "import spacy\n",
    "import nltk\n",
    "import pandas as pd\n",
    "import string\n",
    "from nltk.corpus import stopwords\n",
    "from multiprocessing import Pool, cpu_count\n",
    "\n",
    "# Carregar modelo SpaCy uma única vez\n",
    "nlp = spacy.load(\"pt_core_news_md\", disable=[\"ner\", \"parser\"])  # Desativa partes desnecessárias\n",
    "\n",
    "# Baixar stopwords em português\n",
    "nltk.download('stopwords')\n",
    "stopwords_pt = set(stopwords.words('portuguese'))\n",
    "\n",
    "# Função para remover acentos\n",
    "def remove_accent(text):\n",
    "    return re.sub(r\"[áàãâäéèêëíìîïóòôõöúùûüç]\", \n",
    "                  lambda m: \"aaaaaeeeeiiiiooooouuuuc\"[\"áàãâäéèêëíìîïóòôõöúùûüç\".index(m.group())], \n",
    "                  text)\n",
    "\n",
    "# Função otimizada de pré-processamento\n",
    "def preprocess_text(text):\n",
    "    if pd.isna(text) or not isinstance(text, str):  \n",
    "        return \"\"\n",
    "\n",
    "    text = remove_accent(text.lower())  # Remove acentos e coloca em minúsculas\n",
    "    text = re.sub(r\"\\d+º?\", \"\", text)  # Remove números\n",
    "\n",
    "    # Tokenização + remoção de stopwords e pontuação\n",
    "    doc = nlp(text)\n",
    "    tokens = [token.text for token in doc if token.text not in stopwords_pt and token.text not in string.punctuation]\n",
    "\n",
    "    return \" \".join(tokens)\n",
    "\n",
    "# Função para processamento paralelo\n",
    "def process_in_parallel(data, num_workers=None):\n",
    "    if num_workers is None:\n",
    "        num_workers = max(1, cpu_count() - 1)  # Usa todas as CPUs menos 1\n",
    "\n",
    "    with Pool(num_workers) as pool:\n",
    "        processed_texts = pool.map(preprocess_text, data)\n",
    "\n",
    "    return processed_texts\n",
    "\n",
    "# Concatenar título + legenda antes do processamento\n",
    "text_data = (newsInfo[\"title\"] + \" \" + newsInfo[\"caption\"]).tolist()\n",
    "\n",
    "# Processar com multiprocessing\n",
    "newsInfo[\"processed_text\"] = process_in_parallel(text_data)\n",
    "\n",
    "# Exibir amostra\n",
    "print(newsInfo.head())"
   ]
  },
  {
   "cell_type": "code",
   "execution_count": 5,
   "metadata": {},
   "outputs": [
    {
     "data": {
      "text/plain": [
       "'Caso Bruno e Dom: 3º suspeito tem prisão temporária decretada pela Justiça do AM Jeferson da Silva Lima foi escoltado por agentes da Polícia Federal ao Fórum de Justiça do município para a audiência de custódia'"
      ]
     },
     "execution_count": 5,
     "metadata": {},
     "output_type": "execute_result"
    }
   ],
   "source": [
    "text_test = newsInfo[\"title\"][0] + \" \" + newsInfo[\"caption\"][0]\n",
    "text_test"
   ]
  },
  {
   "cell_type": "code",
   "execution_count": 2,
   "metadata": {},
   "outputs": [
    {
     "ename": "NameError",
     "evalue": "name 'preprocess_text' is not defined",
     "output_type": "error",
     "traceback": [
      "\u001b[0;31m---------------------------------------------------------------------------\u001b[0m",
      "\u001b[0;31mNameError\u001b[0m                                 Traceback (most recent call last)",
      "Cell \u001b[0;32mIn[2], line 1\u001b[0m\n\u001b[0;32m----> 1\u001b[0m pre \u001b[38;5;241m=\u001b[39m \u001b[43mpreprocess_text\u001b[49m(text_test)\n\u001b[1;32m      2\u001b[0m \u001b[38;5;28mprint\u001b[39m(pre)\n",
      "\u001b[0;31mNameError\u001b[0m: name 'preprocess_text' is not defined"
     ]
    }
   ],
   "source": [
    "pre = preprocess_text(text_test)\n",
    "print(pre)"
   ]
  },
  {
   "cell_type": "markdown",
   "metadata": {},
   "source": [
    "fasttext"
   ]
  },
  {
   "cell_type": "code",
   "execution_count": null,
   "metadata": {},
   "outputs": [],
   "source": [
    "import fasttext\n",
    "\n",
    "# Carregar o modelo treinado\n",
    "model = fasttext.load_model(\"/home/rodrigo/Vídeos/Datathon/Datathon - FIAP+GloboPlay/Models/cc.pt.300.bin\")\n",
    "\n",
    "similar_words = model.get_nearest_neighbors(\"política\", k=5)  # Top 5 palavras mais próximas\n",
    "for similarity, word in similar_words:\n",
    "    print(f\"{word}: {similarity}\")"
   ]
  },
  {
   "cell_type": "code",
   "execution_count": 1,
   "metadata": {},
   "outputs": [
    {
     "name": "stderr",
     "output_type": "stream",
     "text": [
      "Warning : `load_model` does not return WordVectorModel or SupervisedModel any more, but a `FastText` object which is very similar.\n"
     ]
    },
    {
     "name": "stdout",
     "output_type": "stream",
     "text": [
      "21:11:47\n",
      "21:11:47\n",
      "\n",
      "Recomendações de notícias:\n",
      "Governo lança novo plano econômico para o país (similaridade: 0.85)\n",
      "Nova tecnologia de inteligência artificial revoluciona o mercado (similaridade: 0.71)\n",
      "Pesquisa científica descobre novo tratamento para doenças raras (similaridade: 0.60)\n",
      "Time brasileiro vence campeonato internacional de futebol (similaridade: 0.57)\n",
      "Ministro da economia apresenta pacote de reformas (similaridade: 0.56)\n"
     ]
    }
   ],
   "source": [
    "import fasttext\n",
    "import numpy as np\n",
    "from sklearn.metrics.pairwise import cosine_similarity\n",
    "\n",
    "# Carregar o modelo treinado\n",
    "model = fasttext.load_model(\"/home/rodrigo/Vídeos/Datathon/Datathon - FIAP+GloboPlay/models/cc.pt.300.bin\")\n",
    "\n",
    "noticias_lidas = [\n",
    "    \"Economia do Brasil cresce com novo plano financeiro\"\n",
    "]\n",
    "\n",
    "# Banco de notícias para recomendação\n",
    "noticias_disponiveis = [\n",
    "    \"Governo lança novo plano econômico para o país\",\n",
    "    \"Ministro da economia apresenta pacote de reformas\",\n",
    "    \"Nova tecnologia de inteligência artificial revoluciona o mercado\",\n",
    "    \"Time brasileiro vence campeonato internacional de futebol\",\n",
    "    \"Pesquisa científica descobre novo tratamento para doenças raras\"\n",
    "]\n",
    "\n",
    "def get_text_vector(text):\n",
    "    words = text.split()\n",
    "    word_vectors = [model.get_word_vector(word) for word in words if word in model.words]\n",
    "    if not word_vectors:\n",
    "        return np.zeros(300)  # Retorna vetor zero se nenhuma palavra for encontrada\n",
    "    return np.mean(word_vectors, axis=0)  # Média dos vetores\n",
    "\n",
    "\n",
    "vetores_lidas = [get_text_vector(n) for n in noticias_lidas]\n",
    "vetores_disponiveis = [get_text_vector(n) for n in noticias_disponiveis]\n",
    "\n",
    "\n",
    "from datetime import datetime\n",
    "print(datetime.now().strftime(\"%H:%M:%S\"))\n",
    "recomendacoes = []\n",
    "for i, vetor_disponivel in enumerate(vetores_disponiveis):\n",
    "    max_similaridade = max(\n",
    "        cosine_similarity([vetor_disponivel], vetores_lidas)[0]\n",
    "    )  # Pega a maior similaridade com qualquer notícia lida\n",
    "    recomendacoes.append((noticias_disponiveis[i], max_similaridade))\n",
    "\n",
    "# Ordenar recomendações pela maior similaridade\n",
    "recomendacoes.sort(key=lambda x: x[1], reverse=True)\n",
    "print(datetime.now().strftime(\"%H:%M:%S\"))\n",
    "\n",
    "# Mostrar recomendações\n",
    "print(\"\\nRecomendações de notícias:\")\n",
    "for noticia, score in recomendacoes:\n",
    "    print(f\"{noticia} (similaridade: {score:.2f})\")\n",
    "\n"
   ]
  },
  {
   "cell_type": "code",
   "execution_count": 2,
   "metadata": {},
   "outputs": [],
   "source": [
    "import pandas as pd\n",
    "newsInfo_process = pd.read_csv(\"/home/rodrigo/Vídeos/Datathon/Datathon - FIAP+GloboPlay/TestesJupiterNotebook/newsInfo_process2.csv\")"
   ]
  },
  {
   "cell_type": "code",
   "execution_count": 3,
   "metadata": {},
   "outputs": [
    {
     "data": {
      "text/html": [
       "<div>\n",
       "<style scoped>\n",
       "    .dataframe tbody tr th:only-of-type {\n",
       "        vertical-align: middle;\n",
       "    }\n",
       "\n",
       "    .dataframe tbody tr th {\n",
       "        vertical-align: top;\n",
       "    }\n",
       "\n",
       "    .dataframe thead th {\n",
       "        text-align: right;\n",
       "    }\n",
       "</style>\n",
       "<table border=\"1\" class=\"dataframe\">\n",
       "  <thead>\n",
       "    <tr style=\"text-align: right;\">\n",
       "      <th></th>\n",
       "      <th>page</th>\n",
       "      <th>url</th>\n",
       "      <th>issued</th>\n",
       "      <th>modified</th>\n",
       "      <th>title</th>\n",
       "      <th>body</th>\n",
       "      <th>caption</th>\n",
       "      <th>preprocesstext</th>\n",
       "      <th>embeddings_fasttext</th>\n",
       "    </tr>\n",
       "  </thead>\n",
       "  <tbody>\n",
       "    <tr>\n",
       "      <th>0</th>\n",
       "      <td>13db0ab1-eea2-4603-84c4-f40a876c7400</td>\n",
       "      <td>http://g1.globo.com/am/amazonas/noticia/2022/0...</td>\n",
       "      <td>2022-06-18 20:37:45+00:00</td>\n",
       "      <td>2023-04-15 00:02:08+00:00</td>\n",
       "      <td>Caso Bruno e Dom: 3º suspeito tem prisão tempo...</td>\n",
       "      <td>Após audiência de custódia, a Justiça do Amazo...</td>\n",
       "      <td>Jeferson da Silva Lima foi escoltado por agent...</td>\n",
       "      <td>caso bruno dom   suspeito prisao temporaria de...</td>\n",
       "      <td>[-3.57559137e-02 -3.99057474e-03  4.78643738e-...</td>\n",
       "    </tr>\n",
       "  </tbody>\n",
       "</table>\n",
       "</div>"
      ],
      "text/plain": [
       "                                   page  \\\n",
       "0  13db0ab1-eea2-4603-84c4-f40a876c7400   \n",
       "\n",
       "                                                 url  \\\n",
       "0  http://g1.globo.com/am/amazonas/noticia/2022/0...   \n",
       "\n",
       "                      issued                   modified  \\\n",
       "0  2022-06-18 20:37:45+00:00  2023-04-15 00:02:08+00:00   \n",
       "\n",
       "                                               title  \\\n",
       "0  Caso Bruno e Dom: 3º suspeito tem prisão tempo...   \n",
       "\n",
       "                                                body  \\\n",
       "0  Após audiência de custódia, a Justiça do Amazo...   \n",
       "\n",
       "                                             caption  \\\n",
       "0  Jeferson da Silva Lima foi escoltado por agent...   \n",
       "\n",
       "                                      preprocesstext  \\\n",
       "0  caso bruno dom   suspeito prisao temporaria de...   \n",
       "\n",
       "                                 embeddings_fasttext  \n",
       "0  [-3.57559137e-02 -3.99057474e-03  4.78643738e-...  "
      ]
     },
     "execution_count": 3,
     "metadata": {},
     "output_type": "execute_result"
    }
   ],
   "source": [
    "newsInfo_process.head(1)"
   ]
  },
  {
   "cell_type": "code",
   "execution_count": null,
   "metadata": {},
   "outputs": [],
   "source": [
    "newsInfo_process[\"preprocesstext\"].tolist()"
   ]
  },
  {
   "cell_type": "code",
   "execution_count": 4,
   "metadata": {},
   "outputs": [
    {
     "name": "stderr",
     "output_type": "stream",
     "text": [
      "Warning : `load_model` does not return WordVectorModel or SupervisedModel any more, but a `FastText` object which is very similar.\n"
     ]
    },
    {
     "name": "stdout",
     "output_type": "stream",
     "text": [
      "Embeddings salvos em /home/rodrigo/Vídeos/Datathon/Datathon - FIAP+GloboPlay/TestesJupiterNotebook/embeddings.txt\n"
     ]
    }
   ],
   "source": [
    "import concurrent.futures\n",
    "import fasttext\n",
    "import numpy as np\n",
    "\n",
    "# Carregando o modelo FastText\n",
    "model = fasttext.load_model(\"/home/rodrigo/Vídeos/Datathon/Datathon - FIAP+GloboPlay/models/cc.pt.300.bin\")\n",
    "\n",
    "# Exemplo de notícias (substitua com seu próprio conjunto)\n",
    "noticias = newsInfo_process[\"preprocesstext\"].tolist()  # Exemplo com 30 notícias\n",
    "\n",
    "def create_embedding_chunk(chunk):\n",
    "    \"\"\"Função global para criar embeddings para um pedaço de notícias.\"\"\"\n",
    "    # Limpar quebras de linha antes de passar para o modelo\n",
    "    cleaned_chunk = [news.replace('\\n', ' ') for news in chunk]  # Remove as quebras de linha\n",
    "    return [model.get_sentence_vector(news) for news in cleaned_chunk]\n",
    "\n",
    "def create_embeddings_parallel():\n",
    "    \"\"\"Função para criar embeddings em paralelo.\"\"\"\n",
    "    # Dividindo as notícias em partes menores (chunks)\n",
    "    chunk_size = max(1, len(noticias) // 4)  # Ajuste para garantir que chunk_size não seja zero\n",
    "    chunks = [noticias[i:i + chunk_size] for i in range(0, len(noticias), chunk_size)]\n",
    "    \n",
    "    embeddings = []\n",
    "    \n",
    "    # Usando múltiplos processos para gerar os embeddings\n",
    "    with concurrent.futures.ProcessPoolExecutor() as executor:\n",
    "        # O map recebe os chunks e aplica a função em cada parte\n",
    "        results = executor.map(create_embedding_chunk, chunks)\n",
    "    \n",
    "    # Juntando todos os resultados\n",
    "    for result in results:\n",
    "        embeddings.extend(result)\n",
    "    \n",
    "    return np.array(embeddings)\n",
    "\n",
    "# Gerar os embeddings e salvar em um arquivo .txt\n",
    "array = create_embeddings_parallel()\n",
    "file_path = '/home/rodrigo/Vídeos/Datathon/Datathon - FIAP+GloboPlay/TestesJupiterNotebook/embeddings.txt'\n",
    "\n",
    "# Salvando os embeddings em um arquivo .txt\n",
    "np.savetxt(file_path, array, delimiter=\",\")\n",
    "\n",
    "print(f\"Embeddings salvos em {file_path}\")\n"
   ]
  },
  {
   "cell_type": "code",
   "execution_count": 23,
   "metadata": {},
   "outputs": [
    {
     "data": {
      "text/plain": [
       "(255603, 9)"
      ]
     },
     "execution_count": 23,
     "metadata": {},
     "output_type": "execute_result"
    }
   ],
   "source": [
    "newsInfo_process.shape"
   ]
  },
  {
   "cell_type": "code",
   "execution_count": 5,
   "metadata": {},
   "outputs": [],
   "source": [
    "newsInfo_process[\"embeddings_fasttext\"] = list(array)"
   ]
  },
  {
   "cell_type": "code",
   "execution_count": 7,
   "metadata": {},
   "outputs": [],
   "source": [
    "newsInfo_process.to_csv('/home/rodrigo/Vídeos/Datathon/Datathon - FIAP+GloboPlay/TestesJupiterNotebook/newsInfo_process2.csv', index=False, encoding='utf-8')"
   ]
  },
  {
   "cell_type": "code",
   "execution_count": null,
   "metadata": {},
   "outputs": [],
   "source": [
    "newsInfo_process.head(1)"
   ]
  },
  {
   "cell_type": "code",
   "execution_count": null,
   "metadata": {},
   "outputs": [],
   "source": [
    "test_news"
   ]
  },
  {
   "cell_type": "code",
   "execution_count": 33,
   "metadata": {},
   "outputs": [],
   "source": [
    "test_news = newsInfo_process[['page', 'url', 'issued', 'modified', 'title', 'body', 'caption',\n",
    "       'preprocesstext']]"
   ]
  },
  {
   "cell_type": "code",
   "execution_count": 35,
   "metadata": {},
   "outputs": [],
   "source": [
    "from sklearn.feature_extraction.text import TfidfVectorizer\n",
    "\n",
    "vectorizer = TfidfVectorizer(max_features=300)\n",
    "tfidf_matrix = vectorizer.fit_transform(test_news[\"preprocesstext\"])"
   ]
  },
  {
   "cell_type": "code",
   "execution_count": 69,
   "metadata": {},
   "outputs": [
    {
     "name": "stdout",
     "output_type": "stream",
     "text": [
      "Similaridade entre as notícias não lidas e lidas:\n",
      "[[0.36258882]\n",
      " [0.43016528]\n",
      " [0.36258882]\n",
      " [0.43016528]\n",
      " [0.43016528]]\n",
      "\n",
      "Notícias recomendadas:\n",
      "   id                                  noticia  similaridade_media\n",
      "3   4        Notícia sobre esportes e futebol.            0.430165\n",
      "6   7       Notícia sobre ciência e inovações.            0.430165\n",
      "5   6   Notícia sobre economia e internaciona.            0.430165\n",
      "2   3  Notícia sobre o avanço das tecnologias.            0.362589\n",
      "4   5         Notícia sobre saúde e bem-estar.            0.362589\n"
     ]
    },
    {
     "name": "stderr",
     "output_type": "stream",
     "text": [
      "/tmp/ipykernel_35355/3972751553.py:51: SettingWithCopyWarning: \n",
      "A value is trying to be set on a copy of a slice from a DataFrame.\n",
      "Try using .loc[row_indexer,col_indexer] = value instead\n",
      "\n",
      "See the caveats in the documentation: https://pandas.pydata.org/pandas-docs/stable/user_guide/indexing.html#returning-a-view-versus-a-copy\n",
      "  nao_lidas['similaridade_media'] = similaridade_media\n"
     ]
    }
   ],
   "source": [
    "import pandas as pd\n",
    "from sklearn.feature_extraction.text import TfidfVectorizer\n",
    "from sklearn.metrics.pairwise import cosine_similarity\n",
    "\n",
    "# Exemplo de DataFrame com notícias\n",
    "data = {\n",
    "    'id': [1, 2, 3, 4, 5, 6, 7],\n",
    "    'noticia': [\n",
    "        \"Notícia sobre política internacional.\",\n",
    "        \"Notícia sobre economia e finanças.\",\n",
    "        \"Notícia sobre o avanço das tecnologias.\",\n",
    "        \"Notícia sobre esportes e futebol.\",\n",
    "        \"Notícia sobre saúde e bem-estar.\",\n",
    "        \"Notícia sobre economia e internaciona.\",\n",
    "        \"Notícia sobre ciência e inovações.\"\n",
    "    ]\n",
    "}\n",
    "\n",
    "df = pd.DataFrame(data)\n",
    "\n",
    "# Dividir as notícias em lidas e não lidas\n",
    "# Vamos assumir que as notícias de id 1 e 2 foram lidas, e as de 3 a 7 não lidas.\n",
    "lidas = df[df['id'].isin([1])]\n",
    "nao_lidas = df[df['id'].isin([3, 4, 5, 6, 7])]\n",
    "\n",
    "# Passo 1: Gerar o vetor TF-IDF para as notícias não lidas (limitado a 300 características)\n",
    "vectorizer = TfidfVectorizer(stop_words=\"english\", max_features=300)\n",
    "\n",
    "# Combina as notícias não lidas para calcular o TF-IDF\n",
    "tfidf_matrix_nao_lidas = vectorizer.fit_transform(nao_lidas['noticia'])\n",
    "\n",
    "# Passo 2: Gerar o vetor TF-IDF para as notícias lidas\n",
    "tfidf_matrix_lidas = vectorizer.transform(lidas['noticia'])\n",
    "\n",
    "# Passo 3: Calcular a similaridade entre as notícias lidas e não lidas\n",
    "similaridade = cosine_similarity(tfidf_matrix_nao_lidas, tfidf_matrix_lidas)\n",
    "\n",
    "# Exibir as similaridades\n",
    "print(\"Similaridade entre as notícias não lidas e lidas:\")\n",
    "print(similaridade)\n",
    "\n",
    "# Passo 4: Selecionar a notícia não lida mais similar a cada notícia lida\n",
    "# Vamos recomendar as notícias não lidas com maior similaridade à notícia lida mais próxima\n",
    "# Em vez de apenas mostrar a similaridade, vamos classificar as notícias não lidas\n",
    "# com base na similaridade média com todas as notícias lidas\n",
    "\n",
    "# Calcular a similaridade média de cada notícia não lida com todas as notícias lidas\n",
    "similaridade_media = similaridade.mean(axis=1)\n",
    "\n",
    "# Adicionar a similaridade média ao DataFrame das notícias não lidas\n",
    "nao_lidas['similaridade_media'] = similaridade_media\n",
    "\n",
    "# Ordenar as notícias não lidas pela similaridade média, da maior para a menor\n",
    "recomendadas = nao_lidas.sort_values(by='similaridade_media', ascending=False)\n",
    "\n",
    "# Exibir as notícias recomendadas (ordenadas pela maior similaridade)\n",
    "print(\"\\nNotícias recomendadas:\")\n",
    "print(recomendadas[['id', 'noticia', 'similaridade_media']])\n"
   ]
  },
  {
   "cell_type": "code",
   "execution_count": 10,
   "metadata": {},
   "outputs": [
    {
     "data": {
      "text/plain": [
       "[1, 2, 3, 4, 5, 6, 7]"
      ]
     },
     "execution_count": 10,
     "metadata": {},
     "output_type": "execute_result"
    }
   ],
   "source": [
    "df[\"id\"]"
   ]
  },
  {
   "cell_type": "code",
   "execution_count": 1,
   "metadata": {},
   "outputs": [
    {
     "name": "stdout",
     "output_type": "stream",
     "text": [
      "Modelo e matriz TF-IDF das não lidas salvos!\n"
     ]
    },
    {
     "ename": "ValueError",
     "evalue": "Length of values (7) does not match length of index (5)",
     "output_type": "error",
     "traceback": [
      "\u001b[0;31m---------------------------------------------------------------------------\u001b[0m",
      "\u001b[0;31mValueError\u001b[0m                                Traceback (most recent call last)",
      "Cell \u001b[0;32mIn[1], line 57\u001b[0m\n\u001b[1;32m     55\u001b[0m \u001b[38;5;66;03m# Adicionar a similaridade média ao DataFrame\u001b[39;00m\n\u001b[1;32m     56\u001b[0m nao_lidas \u001b[38;5;241m=\u001b[39m nao_lidas\u001b[38;5;241m.\u001b[39mcopy()\n\u001b[0;32m---> 57\u001b[0m \u001b[43mnao_lidas\u001b[49m\u001b[43m[\u001b[49m\u001b[38;5;124;43m'\u001b[39;49m\u001b[38;5;124;43msimilaridade_media\u001b[39;49m\u001b[38;5;124;43m'\u001b[39;49m\u001b[43m]\u001b[49m \u001b[38;5;241m=\u001b[39m similaridade_media\n\u001b[1;32m     60\u001b[0m \u001b[38;5;66;03m# Ordenar as recomendações e pegar no máximo 5\u001b[39;00m\n\u001b[1;32m     61\u001b[0m recomendadas \u001b[38;5;241m=\u001b[39m nao_lidas\u001b[38;5;241m.\u001b[39msort_values(by\u001b[38;5;241m=\u001b[39m\u001b[38;5;124m'\u001b[39m\u001b[38;5;124msimilaridade_media\u001b[39m\u001b[38;5;124m'\u001b[39m, ascending\u001b[38;5;241m=\u001b[39m\u001b[38;5;28;01mFalse\u001b[39;00m)\u001b[38;5;241m.\u001b[39mhead(\u001b[38;5;241m5\u001b[39m)\n",
      "File \u001b[0;32m~/.local/lib/python3.10/site-packages/pandas/core/frame.py:4311\u001b[0m, in \u001b[0;36mDataFrame.__setitem__\u001b[0;34m(self, key, value)\u001b[0m\n\u001b[1;32m   4308\u001b[0m     \u001b[38;5;28mself\u001b[39m\u001b[38;5;241m.\u001b[39m_setitem_array([key], value)\n\u001b[1;32m   4309\u001b[0m \u001b[38;5;28;01melse\u001b[39;00m:\n\u001b[1;32m   4310\u001b[0m     \u001b[38;5;66;03m# set column\u001b[39;00m\n\u001b[0;32m-> 4311\u001b[0m     \u001b[38;5;28;43mself\u001b[39;49m\u001b[38;5;241;43m.\u001b[39;49m\u001b[43m_set_item\u001b[49m\u001b[43m(\u001b[49m\u001b[43mkey\u001b[49m\u001b[43m,\u001b[49m\u001b[43m \u001b[49m\u001b[43mvalue\u001b[49m\u001b[43m)\u001b[49m\n",
      "File \u001b[0;32m~/.local/lib/python3.10/site-packages/pandas/core/frame.py:4524\u001b[0m, in \u001b[0;36mDataFrame._set_item\u001b[0;34m(self, key, value)\u001b[0m\n\u001b[1;32m   4514\u001b[0m \u001b[38;5;28;01mdef\u001b[39;00m\u001b[38;5;250m \u001b[39m\u001b[38;5;21m_set_item\u001b[39m(\u001b[38;5;28mself\u001b[39m, key, value) \u001b[38;5;241m-\u001b[39m\u001b[38;5;241m>\u001b[39m \u001b[38;5;28;01mNone\u001b[39;00m:\n\u001b[1;32m   4515\u001b[0m \u001b[38;5;250m    \u001b[39m\u001b[38;5;124;03m\"\"\"\u001b[39;00m\n\u001b[1;32m   4516\u001b[0m \u001b[38;5;124;03m    Add series to DataFrame in specified column.\u001b[39;00m\n\u001b[1;32m   4517\u001b[0m \n\u001b[0;32m   (...)\u001b[0m\n\u001b[1;32m   4522\u001b[0m \u001b[38;5;124;03m    ensure homogeneity.\u001b[39;00m\n\u001b[1;32m   4523\u001b[0m \u001b[38;5;124;03m    \"\"\"\u001b[39;00m\n\u001b[0;32m-> 4524\u001b[0m     value, refs \u001b[38;5;241m=\u001b[39m \u001b[38;5;28;43mself\u001b[39;49m\u001b[38;5;241;43m.\u001b[39;49m\u001b[43m_sanitize_column\u001b[49m\u001b[43m(\u001b[49m\u001b[43mvalue\u001b[49m\u001b[43m)\u001b[49m\n\u001b[1;32m   4526\u001b[0m     \u001b[38;5;28;01mif\u001b[39;00m (\n\u001b[1;32m   4527\u001b[0m         key \u001b[38;5;129;01min\u001b[39;00m \u001b[38;5;28mself\u001b[39m\u001b[38;5;241m.\u001b[39mcolumns\n\u001b[1;32m   4528\u001b[0m         \u001b[38;5;129;01mand\u001b[39;00m value\u001b[38;5;241m.\u001b[39mndim \u001b[38;5;241m==\u001b[39m \u001b[38;5;241m1\u001b[39m\n\u001b[1;32m   4529\u001b[0m         \u001b[38;5;129;01mand\u001b[39;00m \u001b[38;5;129;01mnot\u001b[39;00m \u001b[38;5;28misinstance\u001b[39m(value\u001b[38;5;241m.\u001b[39mdtype, ExtensionDtype)\n\u001b[1;32m   4530\u001b[0m     ):\n\u001b[1;32m   4531\u001b[0m         \u001b[38;5;66;03m# broadcast across multiple columns if necessary\u001b[39;00m\n\u001b[1;32m   4532\u001b[0m         \u001b[38;5;28;01mif\u001b[39;00m \u001b[38;5;129;01mnot\u001b[39;00m \u001b[38;5;28mself\u001b[39m\u001b[38;5;241m.\u001b[39mcolumns\u001b[38;5;241m.\u001b[39mis_unique \u001b[38;5;129;01mor\u001b[39;00m \u001b[38;5;28misinstance\u001b[39m(\u001b[38;5;28mself\u001b[39m\u001b[38;5;241m.\u001b[39mcolumns, MultiIndex):\n",
      "File \u001b[0;32m~/.local/lib/python3.10/site-packages/pandas/core/frame.py:5266\u001b[0m, in \u001b[0;36mDataFrame._sanitize_column\u001b[0;34m(self, value)\u001b[0m\n\u001b[1;32m   5263\u001b[0m     \u001b[38;5;28;01mreturn\u001b[39;00m _reindex_for_setitem(value, \u001b[38;5;28mself\u001b[39m\u001b[38;5;241m.\u001b[39mindex)\n\u001b[1;32m   5265\u001b[0m \u001b[38;5;28;01mif\u001b[39;00m is_list_like(value):\n\u001b[0;32m-> 5266\u001b[0m     \u001b[43mcom\u001b[49m\u001b[38;5;241;43m.\u001b[39;49m\u001b[43mrequire_length_match\u001b[49m\u001b[43m(\u001b[49m\u001b[43mvalue\u001b[49m\u001b[43m,\u001b[49m\u001b[43m \u001b[49m\u001b[38;5;28;43mself\u001b[39;49m\u001b[38;5;241;43m.\u001b[39;49m\u001b[43mindex\u001b[49m\u001b[43m)\u001b[49m\n\u001b[1;32m   5267\u001b[0m arr \u001b[38;5;241m=\u001b[39m sanitize_array(value, \u001b[38;5;28mself\u001b[39m\u001b[38;5;241m.\u001b[39mindex, copy\u001b[38;5;241m=\u001b[39m\u001b[38;5;28;01mTrue\u001b[39;00m, allow_2d\u001b[38;5;241m=\u001b[39m\u001b[38;5;28;01mTrue\u001b[39;00m)\n\u001b[1;32m   5268\u001b[0m \u001b[38;5;28;01mif\u001b[39;00m (\n\u001b[1;32m   5269\u001b[0m     \u001b[38;5;28misinstance\u001b[39m(value, Index)\n\u001b[1;32m   5270\u001b[0m     \u001b[38;5;129;01mand\u001b[39;00m value\u001b[38;5;241m.\u001b[39mdtype \u001b[38;5;241m==\u001b[39m \u001b[38;5;124m\"\u001b[39m\u001b[38;5;124mobject\u001b[39m\u001b[38;5;124m\"\u001b[39m\n\u001b[0;32m   (...)\u001b[0m\n\u001b[1;32m   5273\u001b[0m     \u001b[38;5;66;03m# TODO: Remove kludge in sanitize_array for string mode when enforcing\u001b[39;00m\n\u001b[1;32m   5274\u001b[0m     \u001b[38;5;66;03m# this deprecation\u001b[39;00m\n",
      "File \u001b[0;32m~/.local/lib/python3.10/site-packages/pandas/core/common.py:573\u001b[0m, in \u001b[0;36mrequire_length_match\u001b[0;34m(data, index)\u001b[0m\n\u001b[1;32m    569\u001b[0m \u001b[38;5;250m\u001b[39m\u001b[38;5;124;03m\"\"\"\u001b[39;00m\n\u001b[1;32m    570\u001b[0m \u001b[38;5;124;03mCheck the length of data matches the length of the index.\u001b[39;00m\n\u001b[1;32m    571\u001b[0m \u001b[38;5;124;03m\"\"\"\u001b[39;00m\n\u001b[1;32m    572\u001b[0m \u001b[38;5;28;01mif\u001b[39;00m \u001b[38;5;28mlen\u001b[39m(data) \u001b[38;5;241m!=\u001b[39m \u001b[38;5;28mlen\u001b[39m(index):\n\u001b[0;32m--> 573\u001b[0m     \u001b[38;5;28;01mraise\u001b[39;00m \u001b[38;5;167;01mValueError\u001b[39;00m(\n\u001b[1;32m    574\u001b[0m         \u001b[38;5;124m\"\u001b[39m\u001b[38;5;124mLength of values \u001b[39m\u001b[38;5;124m\"\u001b[39m\n\u001b[1;32m    575\u001b[0m         \u001b[38;5;124mf\u001b[39m\u001b[38;5;124m\"\u001b[39m\u001b[38;5;124m(\u001b[39m\u001b[38;5;132;01m{\u001b[39;00m\u001b[38;5;28mlen\u001b[39m(data)\u001b[38;5;132;01m}\u001b[39;00m\u001b[38;5;124m) \u001b[39m\u001b[38;5;124m\"\u001b[39m\n\u001b[1;32m    576\u001b[0m         \u001b[38;5;124m\"\u001b[39m\u001b[38;5;124mdoes not match length of index \u001b[39m\u001b[38;5;124m\"\u001b[39m\n\u001b[1;32m    577\u001b[0m         \u001b[38;5;124mf\u001b[39m\u001b[38;5;124m\"\u001b[39m\u001b[38;5;124m(\u001b[39m\u001b[38;5;132;01m{\u001b[39;00m\u001b[38;5;28mlen\u001b[39m(index)\u001b[38;5;132;01m}\u001b[39;00m\u001b[38;5;124m)\u001b[39m\u001b[38;5;124m\"\u001b[39m\n\u001b[1;32m    578\u001b[0m     )\n",
      "\u001b[0;31mValueError\u001b[0m: Length of values (7) does not match length of index (5)"
     ]
    }
   ],
   "source": [
    "import pickle\n",
    "import pandas as pd\n",
    "from sklearn.feature_extraction.text import TfidfVectorizer\n",
    "from sklearn.metrics.pairwise import cosine_similarity\n",
    "\n",
    "# Exemplo de DataFrame com notícias\n",
    "data = {\n",
    "    'id': [1, 2, 3, 4, 5, 6, 7],\n",
    "    'noticia': [\n",
    "        \"Notícia sobre política internacional.\",\n",
    "        \"Notícia sobre economia e finanças.\",\n",
    "        \"Notícia sobre o avanço das tecnologias.\",\n",
    "        \"Notícia sobre esportes e futebol.\",\n",
    "        \"Notícia sobre saúde e bem-estar.\",\n",
    "        \"Notícia sobre economia e internacional.\",\n",
    "        \"Notícia sobre ciência e inovações.\"\n",
    "    ]\n",
    "}\n",
    "\n",
    "df = pd.DataFrame(data)\n",
    "\n",
    "# Simulando quais foram lidas e não lidas\n",
    "lidas = df[df['id'].isin([1])]\n",
    "nao_lidas = df[df['id'].isin([3, 4, 5, 6, 7])]\n",
    "\n",
    "### 1️⃣ Treinar e salvar o modelo TF-IDF e matriz das não lidas (Somente na primeira vez)\n",
    "vectorizer = TfidfVectorizer(stop_words=\"english\", max_features=300)\n",
    "tfidf_matrix_nao_lidas = vectorizer.fit_transform(data['noticia'])\n",
    "\n",
    "# Salvar modelo e matriz TF-IDF\n",
    "with open(\"tfidf_vectorizer.pkl\", \"wb\") as f:\n",
    "    pickle.dump(vectorizer, f)\n",
    "\n",
    "with open(\"tfidf_nao_lidas.pkl\", \"wb\") as f:\n",
    "    pickle.dump(tfidf_matrix_nao_lidas, f)\n",
    "\n",
    "print(\"Modelo e matriz TF-IDF das não lidas salvos!\")\n",
    "\n",
    "### 2️⃣ Carregar modelo salvo e matriz TF-IDF para evitar recomputação\n",
    "with open(\"tfidf_vectorizer.pkl\", \"rb\") as f:\n",
    "    loaded_vectorizer = pickle.load(f)\n",
    "\n",
    "with open(\"tfidf_nao_lidas.pkl\", \"rb\") as f:\n",
    "    tfidf_matrix_nao_lidas = pickle.load(f)\n",
    "\n",
    "# Transformar somente as notícias lidas\n",
    "tfidf_matrix_lidas = loaded_vectorizer.transform(lidas['noticia'])\n",
    "\n",
    "# Calcular a similaridade\n",
    "similaridade = cosine_similarity(tfidf_matrix_nao_lidas, tfidf_matrix_lidas)\n",
    "\n",
    "# Calcular a média da similaridade para cada notícia não lida\n",
    "similaridade_media = similaridade.mean(axis=1)\n",
    "\n",
    "# Adicionar a similaridade média ao DataFrame\n",
    "nao_lidas = nao_lidas.copy()\n",
    "nao_lidas['similaridade_media'] = similaridade_media\n",
    "\n",
    "\n",
    "# Ordenar as recomendações e pegar no máximo 5\n",
    "recomendadas = nao_lidas.sort_values(by='similaridade_media', ascending=False).head(5)\n",
    "\n",
    "# Exibir recomendações com ID\n",
    "print(\"\\nNotícias recomendadas:\")\n",
    "print(recomendadas[['id', 'noticia', 'similaridade_media']])\n"
   ]
  },
  {
   "cell_type": "code",
   "execution_count": 6,
   "metadata": {},
   "outputs": [],
   "source": [
    "embedding_vectors = []\n",
    "for i in range(tfidf_matrix.shape[0]):\n",
    "    embedding_vector = tfidf_matrix[i].toarray().flatten()  # Converte para vetor 1D\n",
    "    embedding_vectors.append(embedding_vector)\n",
    "        "
   ]
  },
  {
   "cell_type": "code",
   "execution_count": 81,
   "metadata": {},
   "outputs": [
    {
     "data": {
      "text/plain": [
       "(5, 1)"
      ]
     },
     "execution_count": 81,
     "metadata": {},
     "output_type": "execute_result"
    }
   ],
   "source": [
    "df2.shape"
   ]
  },
  {
   "cell_type": "code",
   "execution_count": 7,
   "metadata": {},
   "outputs": [],
   "source": [
    "newsInfo_process[\"embeddings_tfidf\"] = embedding_vectors"
   ]
  },
  {
   "cell_type": "code",
   "execution_count": null,
   "metadata": {},
   "outputs": [],
   "source": [
    "newsInfo_process[[\"page\",\"embeddings_tfidf\"]]"
   ]
  },
  {
   "cell_type": "code",
   "execution_count": 9,
   "metadata": {},
   "outputs": [],
   "source": [
    "newsInfo_process.to_csv('/home/rodrigo/Vídeos/Datathon/Datathon - FIAP+GloboPlay/TestesJupiterNotebook/newsInfo_process3.csv', index=False, encoding='utf-8')"
   ]
  },
  {
   "cell_type": "code",
   "execution_count": 4,
   "metadata": {},
   "outputs": [],
   "source": [
    "newsInfo_process = pd.read_csv(\"/home/rodrigo/Vídeos/Datathon/Datathon - FIAP+GloboPlay/TestesJupiterNotebook/news_preprocess.csv\")"
   ]
  },
  {
   "cell_type": "code",
   "execution_count": 7,
   "metadata": {},
   "outputs": [
    {
     "data": {
      "text/plain": [
       "0    [0.         0.         0.         0.         0...\n",
       "1    [0.         0.         0.         0.         0...\n",
       "2    [0.         0.         0.         0.         0...\n",
       "Name: embeddings_tfidf, dtype: object"
      ]
     },
     "execution_count": 7,
     "metadata": {},
     "output_type": "execute_result"
    }
   ],
   "source": [
    "newsInfo_process[\"embeddings_tfidf\"][0:3]"
   ]
  },
  {
   "cell_type": "code",
   "execution_count": 28,
   "metadata": {},
   "outputs": [],
   "source": [
    "read_embeddings = newsInfo_process[\"embeddings_tfidf\"][0:3]\n",
    "unread_embeddings= newsInfo_process[\"embeddings_tfidf\"][3:6]\n",
    "\n",
    "\n",
    "read_embeddings = np.array(read_embeddings.tolist())\n",
    "unread_embeddings = np.array(unread_embeddings.tolist()) \n"
   ]
  },
  {
   "cell_type": "code",
   "execution_count": 30,
   "metadata": {},
   "outputs": [
    {
     "ename": "ValueError",
     "evalue": "could not convert string to float: np.str_('[0.         0.         0.         0.         0.         0.\\n 0.         0.         0.         0.         0.         0.\\n 0.         0.         0.         0.         0.         0.\\n 0.         0.         0.         0.         0.         0.\\n 0.         0.         0.         0.         0.         0.\\n 0.         0.         0.         0.         0.         0.\\n 0.         0.         0.         0.         0.         0.\\n 0.         0.         0.         0.         0.29302957 0.\\n 0.         0.26424313 0.         0.         0.         0.\\n 0.         0.         0.         0.         0.         0.\\n 0.         0.         0.         0.         0.         0.\\n 0.         0.         0.         0.         0.         0.\\n 0.         0.         0.         0.         0.         0.\\n 0.         0.         0.         0.         0.         0.\\n 0.         0.         0.         0.         0.         0.\\n 0.         0.         0.         0.         0.         0.\\n 0.         0.         0.         0.         0.         0.\\n 0.         0.         0.         0.         0.         0.\\n 0.         0.         0.         0.         0.         0.\\n 0.         0.         0.         0.         0.         0.\\n 0.         0.         0.         0.         0.         0.\\n 0.         0.         0.         0.         0.         0.\\n 0.         0.         0.         0.         0.         0.\\n 0.         0.         0.         0.         0.         0.\\n 0.         0.3675646  0.         0.         0.         0.\\n 0.         0.         0.         0.         0.         0.\\n 0.3835596  0.         0.         0.         0.         0.\\n 0.         0.         0.         0.         0.         0.\\n 0.         0.         0.         0.         0.         0.\\n 0.         0.         0.         0.         0.         0.\\n 0.         0.         0.         0.         0.         0.\\n 0.         0.         0.         0.         0.         0.\\n 0.         0.         0.         0.         0.30130129 0.\\n 0.         0.         0.         0.         0.         0.\\n 0.         0.         0.         0.         0.         0.\\n 0.         0.         0.         0.68651662 0.         0.\\n 0.         0.         0.         0.         0.         0.\\n 0.         0.         0.         0.         0.         0.\\n 0.         0.         0.         0.         0.         0.\\n 0.         0.         0.         0.         0.         0.\\n 0.         0.         0.         0.         0.         0.\\n 0.         0.         0.         0.         0.         0.\\n 0.         0.         0.         0.         0.         0.\\n 0.         0.         0.         0.         0.         0.\\n 0.         0.         0.         0.         0.         0.\\n 0.         0.         0.         0.         0.         0.\\n 0.         0.         0.         0.         0.         0.\\n 0.         0.         0.         0.         0.         0.\\n 0.         0.         0.         0.         0.         0.\\n 0.         0.         0.         0.         0.         0.        ]')",
     "output_type": "error",
     "traceback": [
      "\u001b[0;31m---------------------------------------------------------------------------\u001b[0m",
      "\u001b[0;31mValueError\u001b[0m                                Traceback (most recent call last)",
      "Cell \u001b[0;32mIn[30], line 1\u001b[0m\n\u001b[0;32m----> 1\u001b[0m unread_embeddings \u001b[38;5;241m=\u001b[39m \u001b[43mnp\u001b[49m\u001b[38;5;241;43m.\u001b[39;49m\u001b[43marray\u001b[49m\u001b[43m(\u001b[49m\u001b[43munread_embeddings\u001b[49m\u001b[43m,\u001b[49m\u001b[43m \u001b[49m\u001b[43mdtype\u001b[49m\u001b[38;5;241;43m=\u001b[39;49m\u001b[43mnp\u001b[49m\u001b[38;5;241;43m.\u001b[39;49m\u001b[43mfloat32\u001b[49m\u001b[43m)\u001b[49m\n\u001b[1;32m      2\u001b[0m read_embeddings \u001b[38;5;241m=\u001b[39m np\u001b[38;5;241m.\u001b[39marray(read_embeddings, dtype\u001b[38;5;241m=\u001b[39mnp\u001b[38;5;241m.\u001b[39mfloat32)\n",
      "\u001b[0;31mValueError\u001b[0m: could not convert string to float: np.str_('[0.         0.         0.         0.         0.         0.\\n 0.         0.         0.         0.         0.         0.\\n 0.         0.         0.         0.         0.         0.\\n 0.         0.         0.         0.         0.         0.\\n 0.         0.         0.         0.         0.         0.\\n 0.         0.         0.         0.         0.         0.\\n 0.         0.         0.         0.         0.         0.\\n 0.         0.         0.         0.         0.29302957 0.\\n 0.         0.26424313 0.         0.         0.         0.\\n 0.         0.         0.         0.         0.         0.\\n 0.         0.         0.         0.         0.         0.\\n 0.         0.         0.         0.         0.         0.\\n 0.         0.         0.         0.         0.         0.\\n 0.         0.         0.         0.         0.         0.\\n 0.         0.         0.         0.         0.         0.\\n 0.         0.         0.         0.         0.         0.\\n 0.         0.         0.         0.         0.         0.\\n 0.         0.         0.         0.         0.         0.\\n 0.         0.         0.         0.         0.         0.\\n 0.         0.         0.         0.         0.         0.\\n 0.         0.         0.         0.         0.         0.\\n 0.         0.         0.         0.         0.         0.\\n 0.         0.         0.         0.         0.         0.\\n 0.         0.         0.         0.         0.         0.\\n 0.         0.3675646  0.         0.         0.         0.\\n 0.         0.         0.         0.         0.         0.\\n 0.3835596  0.         0.         0.         0.         0.\\n 0.         0.         0.         0.         0.         0.\\n 0.         0.         0.         0.         0.         0.\\n 0.         0.         0.         0.         0.         0.\\n 0.         0.         0.         0.         0.         0.\\n 0.         0.         0.         0.         0.         0.\\n 0.         0.         0.         0.         0.30130129 0.\\n 0.         0.         0.         0.         0.         0.\\n 0.         0.         0.         0.         0.         0.\\n 0.         0.         0.         0.68651662 0.         0.\\n 0.         0.         0.         0.         0.         0.\\n 0.         0.         0.         0.         0.         0.\\n 0.         0.         0.         0.         0.         0.\\n 0.         0.         0.         0.         0.         0.\\n 0.         0.         0.         0.         0.         0.\\n 0.         0.         0.         0.         0.         0.\\n 0.         0.         0.         0.         0.         0.\\n 0.         0.         0.         0.         0.         0.\\n 0.         0.         0.         0.         0.         0.\\n 0.         0.         0.         0.         0.         0.\\n 0.         0.         0.         0.         0.         0.\\n 0.         0.         0.         0.         0.         0.\\n 0.         0.         0.         0.         0.         0.\\n 0.         0.         0.         0.         0.         0.        ]')"
     ]
    }
   ],
   "source": [
    "unread_embeddings = np.array(unread_embeddings, dtype=np.float32)\n",
    "read_embeddings = np.array(read_embeddings, dtype=np.float32)"
   ]
  },
  {
   "cell_type": "code",
   "execution_count": 22,
   "metadata": {},
   "outputs": [
    {
     "ename": "ValueError",
     "evalue": "could not convert string to float: np.str_('[0.         0.         0.         0.         0.         0.\\n 0.         0.         0.         0.         0.         0.\\n 0.         0.         0.         0.         0.         0.\\n 0.         0.         0.         0.         0.         0.\\n 0.         0.         0.         0.         0.         0.\\n 0.         0.         0.         0.         0.         0.\\n 0.         0.         0.         0.         0.         0.\\n 0.         0.         0.         0.         0.29302957 0.\\n 0.         0.26424313 0.         0.         0.         0.\\n 0.         0.         0.         0.         0.         0.\\n 0.         0.         0.         0.         0.         0.\\n 0.         0.         0.         0.         0.         0.\\n 0.         0.         0.         0.         0.         0.\\n 0.         0.         0.         0.         0.         0.\\n 0.         0.         0.         0.         0.         0.\\n 0.         0.         0.         0.         0.         0.\\n 0.         0.         0.         0.         0.         0.\\n 0.         0.         0.         0.         0.         0.\\n 0.         0.         0.         0.         0.         0.\\n 0.         0.         0.         0.         0.         0.\\n 0.         0.         0.         0.         0.         0.\\n 0.         0.         0.         0.         0.         0.\\n 0.         0.         0.         0.         0.         0.\\n 0.         0.         0.         0.         0.         0.\\n 0.         0.3675646  0.         0.         0.         0.\\n 0.         0.         0.         0.         0.         0.\\n 0.3835596  0.         0.         0.         0.         0.\\n 0.         0.         0.         0.         0.         0.\\n 0.         0.         0.         0.         0.         0.\\n 0.         0.         0.         0.         0.         0.\\n 0.         0.         0.         0.         0.         0.\\n 0.         0.         0.         0.         0.         0.\\n 0.         0.         0.         0.         0.30130129 0.\\n 0.         0.         0.         0.         0.         0.\\n 0.         0.         0.         0.         0.         0.\\n 0.         0.         0.         0.68651662 0.         0.\\n 0.         0.         0.         0.         0.         0.\\n 0.         0.         0.         0.         0.         0.\\n 0.         0.         0.         0.         0.         0.\\n 0.         0.         0.         0.         0.         0.\\n 0.         0.         0.         0.         0.         0.\\n 0.         0.         0.         0.         0.         0.\\n 0.         0.         0.         0.         0.         0.\\n 0.         0.         0.         0.         0.         0.\\n 0.         0.         0.         0.         0.         0.\\n 0.         0.         0.         0.         0.         0.\\n 0.         0.         0.         0.         0.         0.\\n 0.         0.         0.         0.         0.         0.\\n 0.         0.         0.         0.         0.         0.\\n 0.         0.         0.         0.         0.         0.        ]')",
     "output_type": "error",
     "traceback": [
      "\u001b[0;31m---------------------------------------------------------------------------\u001b[0m",
      "\u001b[0;31mValueError\u001b[0m                                Traceback (most recent call last)",
      "Cell \u001b[0;32mIn[22], line 1\u001b[0m\n\u001b[0;32m----> 1\u001b[0m similarity_matrix \u001b[38;5;241m=\u001b[39m \u001b[43mcosine_similarity\u001b[49m\u001b[43m(\u001b[49m\u001b[43munread_embeddings\u001b[49m\u001b[43m,\u001b[49m\u001b[43m \u001b[49m\u001b[43mread_embeddings\u001b[49m\u001b[43m)\u001b[49m\n",
      "File \u001b[0;32m~/.local/lib/python3.10/site-packages/sklearn/utils/_param_validation.py:216\u001b[0m, in \u001b[0;36mvalidate_params.<locals>.decorator.<locals>.wrapper\u001b[0;34m(*args, **kwargs)\u001b[0m\n\u001b[1;32m    210\u001b[0m \u001b[38;5;28;01mtry\u001b[39;00m:\n\u001b[1;32m    211\u001b[0m     \u001b[38;5;28;01mwith\u001b[39;00m config_context(\n\u001b[1;32m    212\u001b[0m         skip_parameter_validation\u001b[38;5;241m=\u001b[39m(\n\u001b[1;32m    213\u001b[0m             prefer_skip_nested_validation \u001b[38;5;129;01mor\u001b[39;00m global_skip_validation\n\u001b[1;32m    214\u001b[0m         )\n\u001b[1;32m    215\u001b[0m     ):\n\u001b[0;32m--> 216\u001b[0m         \u001b[38;5;28;01mreturn\u001b[39;00m \u001b[43mfunc\u001b[49m\u001b[43m(\u001b[49m\u001b[38;5;241;43m*\u001b[39;49m\u001b[43margs\u001b[49m\u001b[43m,\u001b[49m\u001b[43m \u001b[49m\u001b[38;5;241;43m*\u001b[39;49m\u001b[38;5;241;43m*\u001b[39;49m\u001b[43mkwargs\u001b[49m\u001b[43m)\u001b[49m\n\u001b[1;32m    217\u001b[0m \u001b[38;5;28;01mexcept\u001b[39;00m InvalidParameterError \u001b[38;5;28;01mas\u001b[39;00m e:\n\u001b[1;32m    218\u001b[0m     \u001b[38;5;66;03m# When the function is just a wrapper around an estimator, we allow\u001b[39;00m\n\u001b[1;32m    219\u001b[0m     \u001b[38;5;66;03m# the function to delegate validation to the estimator, but we replace\u001b[39;00m\n\u001b[1;32m    220\u001b[0m     \u001b[38;5;66;03m# the name of the estimator by the name of the function in the error\u001b[39;00m\n\u001b[1;32m    221\u001b[0m     \u001b[38;5;66;03m# message to avoid confusion.\u001b[39;00m\n\u001b[1;32m    222\u001b[0m     msg \u001b[38;5;241m=\u001b[39m re\u001b[38;5;241m.\u001b[39msub(\n\u001b[1;32m    223\u001b[0m         \u001b[38;5;124mr\u001b[39m\u001b[38;5;124m\"\u001b[39m\u001b[38;5;124mparameter of \u001b[39m\u001b[38;5;124m\\\u001b[39m\u001b[38;5;124mw+ must be\u001b[39m\u001b[38;5;124m\"\u001b[39m,\n\u001b[1;32m    224\u001b[0m         \u001b[38;5;124mf\u001b[39m\u001b[38;5;124m\"\u001b[39m\u001b[38;5;124mparameter of \u001b[39m\u001b[38;5;132;01m{\u001b[39;00mfunc\u001b[38;5;241m.\u001b[39m\u001b[38;5;18m__qualname__\u001b[39m\u001b[38;5;132;01m}\u001b[39;00m\u001b[38;5;124m must be\u001b[39m\u001b[38;5;124m\"\u001b[39m,\n\u001b[1;32m    225\u001b[0m         \u001b[38;5;28mstr\u001b[39m(e),\n\u001b[1;32m    226\u001b[0m     )\n",
      "File \u001b[0;32m~/.local/lib/python3.10/site-packages/sklearn/metrics/pairwise.py:1741\u001b[0m, in \u001b[0;36mcosine_similarity\u001b[0;34m(X, Y, dense_output)\u001b[0m\n\u001b[1;32m   1695\u001b[0m \u001b[38;5;250m\u001b[39m\u001b[38;5;124;03m\"\"\"Compute cosine similarity between samples in X and Y.\u001b[39;00m\n\u001b[1;32m   1696\u001b[0m \n\u001b[1;32m   1697\u001b[0m \u001b[38;5;124;03mCosine similarity, or the cosine kernel, computes similarity as the\u001b[39;00m\n\u001b[0;32m   (...)\u001b[0m\n\u001b[1;32m   1737\u001b[0m \u001b[38;5;124;03m       [0.57..., 0.81...]])\u001b[39;00m\n\u001b[1;32m   1738\u001b[0m \u001b[38;5;124;03m\"\"\"\u001b[39;00m\n\u001b[1;32m   1739\u001b[0m \u001b[38;5;66;03m# to avoid recursive import\u001b[39;00m\n\u001b[0;32m-> 1741\u001b[0m X, Y \u001b[38;5;241m=\u001b[39m \u001b[43mcheck_pairwise_arrays\u001b[49m\u001b[43m(\u001b[49m\u001b[43mX\u001b[49m\u001b[43m,\u001b[49m\u001b[43m \u001b[49m\u001b[43mY\u001b[49m\u001b[43m)\u001b[49m\n\u001b[1;32m   1743\u001b[0m X_normalized \u001b[38;5;241m=\u001b[39m normalize(X, copy\u001b[38;5;241m=\u001b[39m\u001b[38;5;28;01mTrue\u001b[39;00m)\n\u001b[1;32m   1744\u001b[0m \u001b[38;5;28;01mif\u001b[39;00m X \u001b[38;5;129;01mis\u001b[39;00m Y:\n",
      "File \u001b[0;32m~/.local/lib/python3.10/site-packages/sklearn/metrics/pairwise.py:200\u001b[0m, in \u001b[0;36mcheck_pairwise_arrays\u001b[0;34m(X, Y, precomputed, dtype, accept_sparse, force_all_finite, ensure_all_finite, ensure_2d, copy)\u001b[0m\n\u001b[1;32m    190\u001b[0m     X \u001b[38;5;241m=\u001b[39m Y \u001b[38;5;241m=\u001b[39m check_array(\n\u001b[1;32m    191\u001b[0m         X,\n\u001b[1;32m    192\u001b[0m         accept_sparse\u001b[38;5;241m=\u001b[39maccept_sparse,\n\u001b[0;32m   (...)\u001b[0m\n\u001b[1;32m    197\u001b[0m         ensure_2d\u001b[38;5;241m=\u001b[39mensure_2d,\n\u001b[1;32m    198\u001b[0m     )\n\u001b[1;32m    199\u001b[0m \u001b[38;5;28;01melse\u001b[39;00m:\n\u001b[0;32m--> 200\u001b[0m     X \u001b[38;5;241m=\u001b[39m \u001b[43mcheck_array\u001b[49m\u001b[43m(\u001b[49m\n\u001b[1;32m    201\u001b[0m \u001b[43m        \u001b[49m\u001b[43mX\u001b[49m\u001b[43m,\u001b[49m\n\u001b[1;32m    202\u001b[0m \u001b[43m        \u001b[49m\u001b[43maccept_sparse\u001b[49m\u001b[38;5;241;43m=\u001b[39;49m\u001b[43maccept_sparse\u001b[49m\u001b[43m,\u001b[49m\n\u001b[1;32m    203\u001b[0m \u001b[43m        \u001b[49m\u001b[43mdtype\u001b[49m\u001b[38;5;241;43m=\u001b[39;49m\u001b[43mdtype\u001b[49m\u001b[43m,\u001b[49m\n\u001b[1;32m    204\u001b[0m \u001b[43m        \u001b[49m\u001b[43mcopy\u001b[49m\u001b[38;5;241;43m=\u001b[39;49m\u001b[43mcopy\u001b[49m\u001b[43m,\u001b[49m\n\u001b[1;32m    205\u001b[0m \u001b[43m        \u001b[49m\u001b[43mensure_all_finite\u001b[49m\u001b[38;5;241;43m=\u001b[39;49m\u001b[43mensure_all_finite\u001b[49m\u001b[43m,\u001b[49m\n\u001b[1;32m    206\u001b[0m \u001b[43m        \u001b[49m\u001b[43mestimator\u001b[49m\u001b[38;5;241;43m=\u001b[39;49m\u001b[43mestimator\u001b[49m\u001b[43m,\u001b[49m\n\u001b[1;32m    207\u001b[0m \u001b[43m        \u001b[49m\u001b[43mensure_2d\u001b[49m\u001b[38;5;241;43m=\u001b[39;49m\u001b[43mensure_2d\u001b[49m\u001b[43m,\u001b[49m\n\u001b[1;32m    208\u001b[0m \u001b[43m    \u001b[49m\u001b[43m)\u001b[49m\n\u001b[1;32m    209\u001b[0m     Y \u001b[38;5;241m=\u001b[39m check_array(\n\u001b[1;32m    210\u001b[0m         Y,\n\u001b[1;32m    211\u001b[0m         accept_sparse\u001b[38;5;241m=\u001b[39maccept_sparse,\n\u001b[0;32m   (...)\u001b[0m\n\u001b[1;32m    216\u001b[0m         ensure_2d\u001b[38;5;241m=\u001b[39mensure_2d,\n\u001b[1;32m    217\u001b[0m     )\n\u001b[1;32m    219\u001b[0m \u001b[38;5;28;01mif\u001b[39;00m precomputed:\n",
      "File \u001b[0;32m~/.local/lib/python3.10/site-packages/sklearn/utils/validation.py:1055\u001b[0m, in \u001b[0;36mcheck_array\u001b[0;34m(array, accept_sparse, accept_large_sparse, dtype, order, copy, force_writeable, force_all_finite, ensure_all_finite, ensure_non_negative, ensure_2d, allow_nd, ensure_min_samples, ensure_min_features, estimator, input_name)\u001b[0m\n\u001b[1;32m   1053\u001b[0m         array \u001b[38;5;241m=\u001b[39m xp\u001b[38;5;241m.\u001b[39mastype(array, dtype, copy\u001b[38;5;241m=\u001b[39m\u001b[38;5;28;01mFalse\u001b[39;00m)\n\u001b[1;32m   1054\u001b[0m     \u001b[38;5;28;01melse\u001b[39;00m:\n\u001b[0;32m-> 1055\u001b[0m         array \u001b[38;5;241m=\u001b[39m \u001b[43m_asarray_with_order\u001b[49m\u001b[43m(\u001b[49m\u001b[43marray\u001b[49m\u001b[43m,\u001b[49m\u001b[43m \u001b[49m\u001b[43morder\u001b[49m\u001b[38;5;241;43m=\u001b[39;49m\u001b[43morder\u001b[49m\u001b[43m,\u001b[49m\u001b[43m \u001b[49m\u001b[43mdtype\u001b[49m\u001b[38;5;241;43m=\u001b[39;49m\u001b[43mdtype\u001b[49m\u001b[43m,\u001b[49m\u001b[43m \u001b[49m\u001b[43mxp\u001b[49m\u001b[38;5;241;43m=\u001b[39;49m\u001b[43mxp\u001b[49m\u001b[43m)\u001b[49m\n\u001b[1;32m   1056\u001b[0m \u001b[38;5;28;01mexcept\u001b[39;00m ComplexWarning \u001b[38;5;28;01mas\u001b[39;00m complex_warning:\n\u001b[1;32m   1057\u001b[0m     \u001b[38;5;28;01mraise\u001b[39;00m \u001b[38;5;167;01mValueError\u001b[39;00m(\n\u001b[1;32m   1058\u001b[0m         \u001b[38;5;124m\"\u001b[39m\u001b[38;5;124mComplex data not supported\u001b[39m\u001b[38;5;130;01m\\n\u001b[39;00m\u001b[38;5;132;01m{}\u001b[39;00m\u001b[38;5;130;01m\\n\u001b[39;00m\u001b[38;5;124m\"\u001b[39m\u001b[38;5;241m.\u001b[39mformat(array)\n\u001b[1;32m   1059\u001b[0m     ) \u001b[38;5;28;01mfrom\u001b[39;00m\u001b[38;5;250m \u001b[39m\u001b[38;5;21;01mcomplex_warning\u001b[39;00m\n",
      "File \u001b[0;32m~/.local/lib/python3.10/site-packages/sklearn/utils/_array_api.py:839\u001b[0m, in \u001b[0;36m_asarray_with_order\u001b[0;34m(array, dtype, order, copy, xp, device)\u001b[0m\n\u001b[1;32m    837\u001b[0m     array \u001b[38;5;241m=\u001b[39m numpy\u001b[38;5;241m.\u001b[39marray(array, order\u001b[38;5;241m=\u001b[39morder, dtype\u001b[38;5;241m=\u001b[39mdtype)\n\u001b[1;32m    838\u001b[0m \u001b[38;5;28;01melse\u001b[39;00m:\n\u001b[0;32m--> 839\u001b[0m     array \u001b[38;5;241m=\u001b[39m \u001b[43mnumpy\u001b[49m\u001b[38;5;241;43m.\u001b[39;49m\u001b[43masarray\u001b[49m\u001b[43m(\u001b[49m\u001b[43marray\u001b[49m\u001b[43m,\u001b[49m\u001b[43m \u001b[49m\u001b[43morder\u001b[49m\u001b[38;5;241;43m=\u001b[39;49m\u001b[43morder\u001b[49m\u001b[43m,\u001b[49m\u001b[43m \u001b[49m\u001b[43mdtype\u001b[49m\u001b[38;5;241;43m=\u001b[39;49m\u001b[43mdtype\u001b[49m\u001b[43m)\u001b[49m\n\u001b[1;32m    841\u001b[0m \u001b[38;5;66;03m# At this point array is a NumPy ndarray. We convert it to an array\u001b[39;00m\n\u001b[1;32m    842\u001b[0m \u001b[38;5;66;03m# container that is consistent with the input's namespace.\u001b[39;00m\n\u001b[1;32m    843\u001b[0m \u001b[38;5;28;01mreturn\u001b[39;00m xp\u001b[38;5;241m.\u001b[39masarray(array)\n",
      "\u001b[0;31mValueError\u001b[0m: could not convert string to float: np.str_('[0.         0.         0.         0.         0.         0.\\n 0.         0.         0.         0.         0.         0.\\n 0.         0.         0.         0.         0.         0.\\n 0.         0.         0.         0.         0.         0.\\n 0.         0.         0.         0.         0.         0.\\n 0.         0.         0.         0.         0.         0.\\n 0.         0.         0.         0.         0.         0.\\n 0.         0.         0.         0.         0.29302957 0.\\n 0.         0.26424313 0.         0.         0.         0.\\n 0.         0.         0.         0.         0.         0.\\n 0.         0.         0.         0.         0.         0.\\n 0.         0.         0.         0.         0.         0.\\n 0.         0.         0.         0.         0.         0.\\n 0.         0.         0.         0.         0.         0.\\n 0.         0.         0.         0.         0.         0.\\n 0.         0.         0.         0.         0.         0.\\n 0.         0.         0.         0.         0.         0.\\n 0.         0.         0.         0.         0.         0.\\n 0.         0.         0.         0.         0.         0.\\n 0.         0.         0.         0.         0.         0.\\n 0.         0.         0.         0.         0.         0.\\n 0.         0.         0.         0.         0.         0.\\n 0.         0.         0.         0.         0.         0.\\n 0.         0.         0.         0.         0.         0.\\n 0.         0.3675646  0.         0.         0.         0.\\n 0.         0.         0.         0.         0.         0.\\n 0.3835596  0.         0.         0.         0.         0.\\n 0.         0.         0.         0.         0.         0.\\n 0.         0.         0.         0.         0.         0.\\n 0.         0.         0.         0.         0.         0.\\n 0.         0.         0.         0.         0.         0.\\n 0.         0.         0.         0.         0.         0.\\n 0.         0.         0.         0.         0.30130129 0.\\n 0.         0.         0.         0.         0.         0.\\n 0.         0.         0.         0.         0.         0.\\n 0.         0.         0.         0.68651662 0.         0.\\n 0.         0.         0.         0.         0.         0.\\n 0.         0.         0.         0.         0.         0.\\n 0.         0.         0.         0.         0.         0.\\n 0.         0.         0.         0.         0.         0.\\n 0.         0.         0.         0.         0.         0.\\n 0.         0.         0.         0.         0.         0.\\n 0.         0.         0.         0.         0.         0.\\n 0.         0.         0.         0.         0.         0.\\n 0.         0.         0.         0.         0.         0.\\n 0.         0.         0.         0.         0.         0.\\n 0.         0.         0.         0.         0.         0.\\n 0.         0.         0.         0.         0.         0.\\n 0.         0.         0.         0.         0.         0.\\n 0.         0.         0.         0.         0.         0.        ]')"
     ]
    }
   ],
   "source": [
    "similarity_matrix = cosine_similarity(unread_embeddings, read_embeddings)\n"
   ]
  },
  {
   "cell_type": "code",
   "execution_count": null,
   "metadata": {},
   "outputs": [],
   "source": [
    "print(type(read_embeddings))\n",
    "print(read_embeddings[0]) "
   ]
  },
  {
   "cell_type": "code",
   "execution_count": null,
   "metadata": {},
   "outputs": [],
   "source": [
    "from sklearn.metrics.pairwise import cosine_similarity\n",
    "similarity_scores = []\n",
    "for unread_id, unread_embedding in unread_embeddings.items():\n",
    "    avg_similarity = 0\n",
    "    for read_id, read_embedding in read_embeddings.items():\n",
    "        # Calcula a similaridade entre a notícia lida e não lida\n",
    "        avg_similarity += cosine_similarity([read_embedding], [unread_embedding])[0][0]\n",
    "    # Calcula a média das similaridades para a notícia não lida\n",
    "    similarity_scores.append((unread_id, avg_similarity / len(read_embeddings)))"
   ]
  },
  {
   "cell_type": "code",
   "execution_count": null,
   "metadata": {},
   "outputs": [],
   "source": [
    "recommendations = sorted(similarity_scores, key=lambda x: x[1], reverse=True)\n",
    "recommendations[:5]"
   ]
  },
  {
   "cell_type": "code",
   "execution_count": 12,
   "metadata": {},
   "outputs": [],
   "source": [
    "noticias_lidas = [\n",
    "    \"Economia do Brasil cresce com novo plano financeiro\"\n",
    "]\n",
    "\n",
    "# Banco de notícias para recomendação\n",
    "noticias_disponiveis = [\n",
    "    \"Governo lança novo plano econômico para o país\",\n",
    "    \"Ministro da economia apresenta pacote de reformas\",\n",
    "    \"Nova tecnologia de inteligência artificial revoluciona o mercado\",\n",
    "    \"Time brasileiro vence campeonato internacional de futebol\",\n",
    "    \"Pesquisa científica descobre novo tratamento para doenças raras\"\n",
    "]"
   ]
  },
  {
   "cell_type": "code",
   "execution_count": 13,
   "metadata": {},
   "outputs": [],
   "source": [
    "def get_text_vector(text):\n",
    "    words = text.split()\n",
    "    word_vectors = [model.get_word_vector(word) for word in words if word in model.words]\n",
    "    if not word_vectors:\n",
    "        return np.zeros(300)  # Retorna vetor zero se nenhuma palavra for encontrada\n",
    "    return np.mean(word_vectors, axis=0)  # Média dos vetores"
   ]
  },
  {
   "cell_type": "code",
   "execution_count": 14,
   "metadata": {},
   "outputs": [],
   "source": [
    "vetores_lidas = [get_text_vector(n) for n in noticias_lidas]\n",
    "vetores_disponiveis = [get_text_vector(n) for n in noticias_disponiveis]"
   ]
  },
  {
   "cell_type": "code",
   "execution_count": 15,
   "metadata": {},
   "outputs": [
    {
     "name": "stdout",
     "output_type": "stream",
     "text": [
      "\n",
      "Recomendações de notícias:\n",
      "Governo lança novo plano econômico para o país (similaridade: 0.85)\n",
      "Nova tecnologia de inteligência artificial revoluciona o mercado (similaridade: 0.71)\n",
      "Pesquisa científica descobre novo tratamento para doenças raras (similaridade: 0.60)\n",
      "Time brasileiro vence campeonato internacional de futebol (similaridade: 0.57)\n",
      "Ministro da economia apresenta pacote de reformas (similaridade: 0.56)\n"
     ]
    }
   ],
   "source": [
    "from sklearn.metrics.pairwise import cosine_similarity\n",
    "\n",
    "recomendacoes = []\n",
    "for i, vetor_disponivel in enumerate(vetores_disponiveis):\n",
    "    max_similaridade = max(\n",
    "        cosine_similarity([vetor_disponivel], vetores_lidas)[0]\n",
    "    )  # Pega a maior similaridade com qualquer notícia lida\n",
    "    recomendacoes.append((noticias_disponiveis[i], max_similaridade))\n",
    "\n",
    "# Ordenar recomendações pela maior similaridade\n",
    "recomendacoes.sort(key=lambda x: x[1], reverse=True)\n",
    "\n",
    "# Mostrar recomendações\n",
    "print(\"\\nRecomendações de notícias:\")\n",
    "for noticia, score in recomendacoes:\n",
    "    print(f\"{noticia} (similaridade: {score:.2f})\")"
   ]
  },
  {
   "cell_type": "code",
   "execution_count": 18,
   "metadata": {},
   "outputs": [
    {
     "name": "stdout",
     "output_type": "stream",
     "text": [
      "Defaulting to user installation because normal site-packages is not writeable\n",
      "Collecting transformers\n",
      "  Downloading transformers-4.49.0-py3-none-any.whl.metadata (44 kB)\n",
      "Collecting torch\n",
      "  Using cached torch-2.6.0-cp310-cp310-manylinux1_x86_64.whl.metadata (28 kB)\n",
      "Collecting filelock (from transformers)\n",
      "  Using cached filelock-3.17.0-py3-none-any.whl.metadata (2.9 kB)\n",
      "Collecting huggingface-hub<1.0,>=0.26.0 (from transformers)\n",
      "  Downloading huggingface_hub-0.29.1-py3-none-any.whl.metadata (13 kB)\n",
      "Requirement already satisfied: numpy>=1.17 in /home/rodrigo/.local/lib/python3.10/site-packages (from transformers) (2.2.3)\n",
      "Requirement already satisfied: packaging>=20.0 in /home/rodrigo/.local/lib/python3.10/site-packages (from transformers) (24.2)\n",
      "Requirement already satisfied: pyyaml>=5.1 in /usr/lib/python3/dist-packages (from transformers) (5.3.1)\n",
      "Requirement already satisfied: regex!=2019.12.17 in /home/rodrigo/.local/lib/python3.10/site-packages (from transformers) (2024.11.6)\n",
      "Requirement already satisfied: requests in /home/rodrigo/.local/lib/python3.10/site-packages (from transformers) (2.32.3)\n",
      "Collecting tokenizers<0.22,>=0.21 (from transformers)\n",
      "  Downloading tokenizers-0.21.0-cp39-abi3-manylinux_2_17_x86_64.manylinux2014_x86_64.whl.metadata (6.7 kB)\n",
      "Collecting safetensors>=0.4.1 (from transformers)\n",
      "  Downloading safetensors-0.5.3-cp38-abi3-manylinux_2_17_x86_64.manylinux2014_x86_64.whl.metadata (3.8 kB)\n",
      "Requirement already satisfied: tqdm>=4.27 in /home/rodrigo/.local/lib/python3.10/site-packages (from transformers) (4.67.1)\n",
      "Requirement already satisfied: typing-extensions>=4.10.0 in /home/rodrigo/.local/lib/python3.10/site-packages (from torch) (4.12.2)\n",
      "Collecting networkx (from torch)\n",
      "  Using cached networkx-3.4.2-py3-none-any.whl.metadata (6.3 kB)\n",
      "Requirement already satisfied: jinja2 in /home/rodrigo/.local/lib/python3.10/site-packages (from torch) (3.1.5)\n",
      "Collecting fsspec (from torch)\n",
      "  Using cached fsspec-2025.2.0-py3-none-any.whl.metadata (11 kB)\n",
      "Collecting nvidia-cuda-nvrtc-cu12==12.4.127 (from torch)\n",
      "  Using cached nvidia_cuda_nvrtc_cu12-12.4.127-py3-none-manylinux2014_x86_64.whl.metadata (1.5 kB)\n",
      "Collecting nvidia-cuda-runtime-cu12==12.4.127 (from torch)\n",
      "  Using cached nvidia_cuda_runtime_cu12-12.4.127-py3-none-manylinux2014_x86_64.whl.metadata (1.5 kB)\n",
      "Collecting nvidia-cuda-cupti-cu12==12.4.127 (from torch)\n",
      "  Using cached nvidia_cuda_cupti_cu12-12.4.127-py3-none-manylinux2014_x86_64.whl.metadata (1.6 kB)\n",
      "Collecting nvidia-cudnn-cu12==9.1.0.70 (from torch)\n",
      "  Using cached nvidia_cudnn_cu12-9.1.0.70-py3-none-manylinux2014_x86_64.whl.metadata (1.6 kB)\n",
      "Collecting nvidia-cublas-cu12==12.4.5.8 (from torch)\n",
      "  Using cached nvidia_cublas_cu12-12.4.5.8-py3-none-manylinux2014_x86_64.whl.metadata (1.5 kB)\n",
      "Collecting nvidia-cufft-cu12==11.2.1.3 (from torch)\n",
      "  Using cached nvidia_cufft_cu12-11.2.1.3-py3-none-manylinux2014_x86_64.whl.metadata (1.5 kB)\n",
      "Collecting nvidia-curand-cu12==10.3.5.147 (from torch)\n",
      "  Using cached nvidia_curand_cu12-10.3.5.147-py3-none-manylinux2014_x86_64.whl.metadata (1.5 kB)\n",
      "Collecting nvidia-cusolver-cu12==11.6.1.9 (from torch)\n",
      "  Using cached nvidia_cusolver_cu12-11.6.1.9-py3-none-manylinux2014_x86_64.whl.metadata (1.6 kB)\n",
      "Collecting nvidia-cusparse-cu12==12.3.1.170 (from torch)\n",
      "  Using cached nvidia_cusparse_cu12-12.3.1.170-py3-none-manylinux2014_x86_64.whl.metadata (1.6 kB)\n",
      "Collecting nvidia-cusparselt-cu12==0.6.2 (from torch)\n",
      "  Using cached nvidia_cusparselt_cu12-0.6.2-py3-none-manylinux2014_x86_64.whl.metadata (6.8 kB)\n",
      "Collecting nvidia-nccl-cu12==2.21.5 (from torch)\n",
      "  Using cached nvidia_nccl_cu12-2.21.5-py3-none-manylinux2014_x86_64.whl.metadata (1.8 kB)\n",
      "Collecting nvidia-nvtx-cu12==12.4.127 (from torch)\n",
      "  Using cached nvidia_nvtx_cu12-12.4.127-py3-none-manylinux2014_x86_64.whl.metadata (1.7 kB)\n",
      "Collecting nvidia-nvjitlink-cu12==12.4.127 (from torch)\n",
      "  Using cached nvidia_nvjitlink_cu12-12.4.127-py3-none-manylinux2014_x86_64.whl.metadata (1.5 kB)\n",
      "Collecting triton==3.2.0 (from torch)\n",
      "  Using cached triton-3.2.0-cp310-cp310-manylinux_2_17_x86_64.manylinux2014_x86_64.whl.metadata (1.4 kB)\n",
      "Collecting sympy==1.13.1 (from torch)\n",
      "  Using cached sympy-1.13.1-py3-none-any.whl.metadata (12 kB)\n",
      "Collecting mpmath<1.4,>=1.1.0 (from sympy==1.13.1->torch)\n",
      "  Using cached mpmath-1.3.0-py3-none-any.whl.metadata (8.6 kB)\n",
      "Requirement already satisfied: MarkupSafe>=2.0 in /home/rodrigo/.local/lib/python3.10/site-packages (from jinja2->torch) (3.0.2)\n",
      "Requirement already satisfied: charset-normalizer<4,>=2 in /home/rodrigo/.local/lib/python3.10/site-packages (from requests->transformers) (3.4.1)\n",
      "Requirement already satisfied: idna<4,>=2.5 in /home/rodrigo/.local/lib/python3.10/site-packages (from requests->transformers) (3.10)\n",
      "Requirement already satisfied: urllib3<3,>=1.21.1 in /home/rodrigo/.local/lib/python3.10/site-packages (from requests->transformers) (2.3.0)\n",
      "Requirement already satisfied: certifi>=2017.4.17 in /home/rodrigo/.local/lib/python3.10/site-packages (from requests->transformers) (2025.1.31)\n",
      "Downloading transformers-4.49.0-py3-none-any.whl (10.0 MB)\n",
      "\u001b[2K   \u001b[90m━━━━━━━━━━━━━━━━━━━━━━━━━━━━━━━━━━━━━━━━\u001b[0m \u001b[32m10.0/10.0 MB\u001b[0m \u001b[31m11.1 MB/s\u001b[0m eta \u001b[36m0:00:00\u001b[0m \u001b[36m0:00:01\u001b[0m\n",
      "\u001b[?25hUsing cached torch-2.6.0-cp310-cp310-manylinux1_x86_64.whl (766.7 MB)\n",
      "Using cached nvidia_cublas_cu12-12.4.5.8-py3-none-manylinux2014_x86_64.whl (363.4 MB)\n",
      "Using cached nvidia_cuda_cupti_cu12-12.4.127-py3-none-manylinux2014_x86_64.whl (13.8 MB)\n",
      "Using cached nvidia_cuda_nvrtc_cu12-12.4.127-py3-none-manylinux2014_x86_64.whl (24.6 MB)\n",
      "Using cached nvidia_cuda_runtime_cu12-12.4.127-py3-none-manylinux2014_x86_64.whl (883 kB)\n",
      "Using cached nvidia_cudnn_cu12-9.1.0.70-py3-none-manylinux2014_x86_64.whl (664.8 MB)\n",
      "Using cached nvidia_cufft_cu12-11.2.1.3-py3-none-manylinux2014_x86_64.whl (211.5 MB)\n",
      "Using cached nvidia_curand_cu12-10.3.5.147-py3-none-manylinux2014_x86_64.whl (56.3 MB)\n",
      "Using cached nvidia_cusolver_cu12-11.6.1.9-py3-none-manylinux2014_x86_64.whl (127.9 MB)\n",
      "Using cached nvidia_cusparse_cu12-12.3.1.170-py3-none-manylinux2014_x86_64.whl (207.5 MB)\n",
      "Using cached nvidia_cusparselt_cu12-0.6.2-py3-none-manylinux2014_x86_64.whl (150.1 MB)\n",
      "Using cached nvidia_nccl_cu12-2.21.5-py3-none-manylinux2014_x86_64.whl (188.7 MB)\n",
      "Using cached nvidia_nvjitlink_cu12-12.4.127-py3-none-manylinux2014_x86_64.whl (21.1 MB)\n",
      "Using cached nvidia_nvtx_cu12-12.4.127-py3-none-manylinux2014_x86_64.whl (99 kB)\n",
      "Using cached sympy-1.13.1-py3-none-any.whl (6.2 MB)\n",
      "Using cached triton-3.2.0-cp310-cp310-manylinux_2_17_x86_64.manylinux2014_x86_64.whl (253.1 MB)\n",
      "Downloading huggingface_hub-0.29.1-py3-none-any.whl (468 kB)\n",
      "Using cached fsspec-2025.2.0-py3-none-any.whl (184 kB)\n",
      "Downloading safetensors-0.5.3-cp38-abi3-manylinux_2_17_x86_64.manylinux2014_x86_64.whl (471 kB)\n",
      "Downloading tokenizers-0.21.0-cp39-abi3-manylinux_2_17_x86_64.manylinux2014_x86_64.whl (3.0 MB)\n",
      "\u001b[2K   \u001b[90m━━━━━━━━━━━━━━━━━━━━━━━━━━━━━━━━━━━━━━━━\u001b[0m \u001b[32m3.0/3.0 MB\u001b[0m \u001b[31m11.1 MB/s\u001b[0m eta \u001b[36m0:00:00\u001b[0ma \u001b[36m0:00:01\u001b[0m\n",
      "\u001b[?25hUsing cached filelock-3.17.0-py3-none-any.whl (16 kB)\n",
      "Using cached networkx-3.4.2-py3-none-any.whl (1.7 MB)\n",
      "Using cached mpmath-1.3.0-py3-none-any.whl (536 kB)\n",
      "Installing collected packages: triton, nvidia-cusparselt-cu12, mpmath, sympy, safetensors, nvidia-nvtx-cu12, nvidia-nvjitlink-cu12, nvidia-nccl-cu12, nvidia-curand-cu12, nvidia-cufft-cu12, nvidia-cuda-runtime-cu12, nvidia-cuda-nvrtc-cu12, nvidia-cuda-cupti-cu12, nvidia-cublas-cu12, networkx, fsspec, filelock, nvidia-cusparse-cu12, nvidia-cudnn-cu12, huggingface-hub, tokenizers, nvidia-cusolver-cu12, transformers, torch\n",
      "Successfully installed filelock-3.17.0 fsspec-2025.2.0 huggingface-hub-0.29.1 mpmath-1.3.0 networkx-3.4.2 nvidia-cublas-cu12-12.4.5.8 nvidia-cuda-cupti-cu12-12.4.127 nvidia-cuda-nvrtc-cu12-12.4.127 nvidia-cuda-runtime-cu12-12.4.127 nvidia-cudnn-cu12-9.1.0.70 nvidia-cufft-cu12-11.2.1.3 nvidia-curand-cu12-10.3.5.147 nvidia-cusolver-cu12-11.6.1.9 nvidia-cusparse-cu12-12.3.1.170 nvidia-cusparselt-cu12-0.6.2 nvidia-nccl-cu12-2.21.5 nvidia-nvjitlink-cu12-12.4.127 nvidia-nvtx-cu12-12.4.127 safetensors-0.5.3 sympy-1.13.1 tokenizers-0.21.0 torch-2.6.0 transformers-4.49.0 triton-3.2.0\n"
     ]
    }
   ],
   "source": [
    "!python3.10 -m pip install transformers torch"
   ]
  },
  {
   "cell_type": "code",
   "execution_count": 1,
   "metadata": {},
   "outputs": [
    {
     "name": "stderr",
     "output_type": "stream",
     "text": [
      "/home/rodrigo/.local/lib/python3.10/site-packages/tqdm/auto.py:21: TqdmWarning: IProgress not found. Please update jupyter and ipywidgets. See https://ipywidgets.readthedocs.io/en/stable/user_install.html\n",
      "  from .autonotebook import tqdm as notebook_tqdm\n"
     ]
    },
    {
     "ename": "ImportError",
     "evalue": "cannot import name '_imaging' from 'PIL' (/usr/lib/python3/dist-packages/PIL/__init__.py)",
     "output_type": "error",
     "traceback": [
      "\u001b[0;31m---------------------------------------------------------------------------\u001b[0m",
      "\u001b[0;31mImportError\u001b[0m                               Traceback (most recent call last)",
      "Cell \u001b[0;32mIn[1], line 3\u001b[0m\n\u001b[1;32m      1\u001b[0m \u001b[38;5;28;01mimport\u001b[39;00m\u001b[38;5;250m \u001b[39m\u001b[38;5;21;01mtorch\u001b[39;00m\n\u001b[1;32m      2\u001b[0m \u001b[38;5;28;01mimport\u001b[39;00m\u001b[38;5;250m \u001b[39m\u001b[38;5;21;01mnumpy\u001b[39;00m\u001b[38;5;250m \u001b[39m\u001b[38;5;28;01mas\u001b[39;00m\u001b[38;5;250m \u001b[39m\u001b[38;5;21;01mnp\u001b[39;00m\n\u001b[0;32m----> 3\u001b[0m \u001b[38;5;28;01mfrom\u001b[39;00m\u001b[38;5;250m \u001b[39m\u001b[38;5;21;01mtransformers\u001b[39;00m\u001b[38;5;250m \u001b[39m\u001b[38;5;28;01mimport\u001b[39;00m BertModel, BertTokenizer\n\u001b[1;32m      4\u001b[0m \u001b[38;5;28;01mfrom\u001b[39;00m\u001b[38;5;250m \u001b[39m\u001b[38;5;21;01msklearn\u001b[39;00m\u001b[38;5;21;01m.\u001b[39;00m\u001b[38;5;21;01mmetrics\u001b[39;00m\u001b[38;5;21;01m.\u001b[39;00m\u001b[38;5;21;01mpairwise\u001b[39;00m\u001b[38;5;250m \u001b[39m\u001b[38;5;28;01mimport\u001b[39;00m cosine_similarity\n\u001b[1;32m      6\u001b[0m \u001b[38;5;66;03m# Carregar o tokenizer e o modelo BERTimbau\u001b[39;00m\n",
      "File \u001b[0;32m~/.local/lib/python3.10/site-packages/transformers/__init__.py:26\u001b[0m\n\u001b[1;32m     23\u001b[0m \u001b[38;5;28;01mfrom\u001b[39;00m\u001b[38;5;250m \u001b[39m\u001b[38;5;21;01mtyping\u001b[39;00m\u001b[38;5;250m \u001b[39m\u001b[38;5;28;01mimport\u001b[39;00m TYPE_CHECKING\n\u001b[1;32m     25\u001b[0m \u001b[38;5;66;03m# Check the dependencies satisfy the minimal versions required.\u001b[39;00m\n\u001b[0;32m---> 26\u001b[0m \u001b[38;5;28;01mfrom\u001b[39;00m\u001b[38;5;250m \u001b[39m\u001b[38;5;21;01m.\u001b[39;00m\u001b[38;5;250m \u001b[39m\u001b[38;5;28;01mimport\u001b[39;00m dependency_versions_check\n\u001b[1;32m     27\u001b[0m \u001b[38;5;28;01mfrom\u001b[39;00m\u001b[38;5;250m \u001b[39m\u001b[38;5;21;01m.\u001b[39;00m\u001b[38;5;21;01mutils\u001b[39;00m\u001b[38;5;250m \u001b[39m\u001b[38;5;28;01mimport\u001b[39;00m (\n\u001b[1;32m     28\u001b[0m     OptionalDependencyNotAvailable,\n\u001b[1;32m     29\u001b[0m     _LazyModule,\n\u001b[0;32m   (...)\u001b[0m\n\u001b[1;32m     48\u001b[0m     logging,\n\u001b[1;32m     49\u001b[0m )\n\u001b[1;32m     52\u001b[0m logger \u001b[38;5;241m=\u001b[39m logging\u001b[38;5;241m.\u001b[39mget_logger(\u001b[38;5;18m__name__\u001b[39m)  \u001b[38;5;66;03m# pylint: disable=invalid-name\u001b[39;00m\n",
      "File \u001b[0;32m~/.local/lib/python3.10/site-packages/transformers/dependency_versions_check.py:16\u001b[0m\n\u001b[1;32m      1\u001b[0m \u001b[38;5;66;03m# Copyright 2020 The HuggingFace Team. All rights reserved.\u001b[39;00m\n\u001b[1;32m      2\u001b[0m \u001b[38;5;66;03m#\u001b[39;00m\n\u001b[1;32m      3\u001b[0m \u001b[38;5;66;03m# Licensed under the Apache License, Version 2.0 (the \"License\");\u001b[39;00m\n\u001b[0;32m   (...)\u001b[0m\n\u001b[1;32m     12\u001b[0m \u001b[38;5;66;03m# See the License for the specific language governing permissions and\u001b[39;00m\n\u001b[1;32m     13\u001b[0m \u001b[38;5;66;03m# limitations under the License.\u001b[39;00m\n\u001b[1;32m     15\u001b[0m \u001b[38;5;28;01mfrom\u001b[39;00m\u001b[38;5;250m \u001b[39m\u001b[38;5;21;01m.\u001b[39;00m\u001b[38;5;21;01mdependency_versions_table\u001b[39;00m\u001b[38;5;250m \u001b[39m\u001b[38;5;28;01mimport\u001b[39;00m deps\n\u001b[0;32m---> 16\u001b[0m \u001b[38;5;28;01mfrom\u001b[39;00m\u001b[38;5;250m \u001b[39m\u001b[38;5;21;01m.\u001b[39;00m\u001b[38;5;21;01mutils\u001b[39;00m\u001b[38;5;21;01m.\u001b[39;00m\u001b[38;5;21;01mversions\u001b[39;00m\u001b[38;5;250m \u001b[39m\u001b[38;5;28;01mimport\u001b[39;00m require_version, require_version_core\n\u001b[1;32m     19\u001b[0m \u001b[38;5;66;03m# define which module versions we always want to check at run time\u001b[39;00m\n\u001b[1;32m     20\u001b[0m \u001b[38;5;66;03m# (usually the ones defined in `install_requires` in setup.py)\u001b[39;00m\n\u001b[1;32m     21\u001b[0m \u001b[38;5;66;03m#\u001b[39;00m\n\u001b[1;32m     22\u001b[0m \u001b[38;5;66;03m# order specific notes:\u001b[39;00m\n\u001b[1;32m     23\u001b[0m \u001b[38;5;66;03m# - tqdm must be checked before tokenizers\u001b[39;00m\n\u001b[1;32m     25\u001b[0m pkgs_to_check_at_runtime \u001b[38;5;241m=\u001b[39m [\n\u001b[1;32m     26\u001b[0m     \u001b[38;5;124m\"\u001b[39m\u001b[38;5;124mpython\u001b[39m\u001b[38;5;124m\"\u001b[39m,\n\u001b[1;32m     27\u001b[0m     \u001b[38;5;124m\"\u001b[39m\u001b[38;5;124mtqdm\u001b[39m\u001b[38;5;124m\"\u001b[39m,\n\u001b[0;32m   (...)\u001b[0m\n\u001b[1;32m     37\u001b[0m     \u001b[38;5;124m\"\u001b[39m\u001b[38;5;124mpyyaml\u001b[39m\u001b[38;5;124m\"\u001b[39m,\n\u001b[1;32m     38\u001b[0m ]\n",
      "File \u001b[0;32m~/.local/lib/python3.10/site-packages/transformers/utils/__init__.py:27\u001b[0m\n\u001b[1;32m     25\u001b[0m \u001b[38;5;28;01mfrom\u001b[39;00m\u001b[38;5;250m \u001b[39m\u001b[38;5;21;01m.\u001b[39;00m\u001b[38;5;21;01m.\u001b[39;00m\u001b[38;5;250m \u001b[39m\u001b[38;5;28;01mimport\u001b[39;00m __version__\n\u001b[1;32m     26\u001b[0m \u001b[38;5;28;01mfrom\u001b[39;00m\u001b[38;5;250m \u001b[39m\u001b[38;5;21;01m.\u001b[39;00m\u001b[38;5;21;01mbackbone_utils\u001b[39;00m\u001b[38;5;250m \u001b[39m\u001b[38;5;28;01mimport\u001b[39;00m BackboneConfigMixin, BackboneMixin\n\u001b[0;32m---> 27\u001b[0m \u001b[38;5;28;01mfrom\u001b[39;00m\u001b[38;5;250m \u001b[39m\u001b[38;5;21;01m.\u001b[39;00m\u001b[38;5;21;01mchat_template_utils\u001b[39;00m\u001b[38;5;250m \u001b[39m\u001b[38;5;28;01mimport\u001b[39;00m DocstringParsingException, TypeHintParsingException, get_json_schema\n\u001b[1;32m     28\u001b[0m \u001b[38;5;28;01mfrom\u001b[39;00m\u001b[38;5;250m \u001b[39m\u001b[38;5;21;01m.\u001b[39;00m\u001b[38;5;21;01mconstants\u001b[39;00m\u001b[38;5;250m \u001b[39m\u001b[38;5;28;01mimport\u001b[39;00m IMAGENET_DEFAULT_MEAN, IMAGENET_DEFAULT_STD, IMAGENET_STANDARD_MEAN, IMAGENET_STANDARD_STD\n\u001b[1;32m     29\u001b[0m \u001b[38;5;28;01mfrom\u001b[39;00m\u001b[38;5;250m \u001b[39m\u001b[38;5;21;01m.\u001b[39;00m\u001b[38;5;21;01mdoc\u001b[39;00m\u001b[38;5;250m \u001b[39m\u001b[38;5;28;01mimport\u001b[39;00m (\n\u001b[1;32m     30\u001b[0m     add_code_sample_docstrings,\n\u001b[1;32m     31\u001b[0m     add_end_docstrings,\n\u001b[0;32m   (...)\u001b[0m\n\u001b[1;32m     35\u001b[0m     replace_return_docstrings,\n\u001b[1;32m     36\u001b[0m )\n",
      "File \u001b[0;32m~/.local/lib/python3.10/site-packages/transformers/utils/chat_template_utils.py:37\u001b[0m\n\u001b[1;32m     34\u001b[0m     jinja2 \u001b[38;5;241m=\u001b[39m \u001b[38;5;28;01mNone\u001b[39;00m\n\u001b[1;32m     36\u001b[0m \u001b[38;5;28;01mif\u001b[39;00m is_vision_available():\n\u001b[0;32m---> 37\u001b[0m     \u001b[38;5;28;01mfrom\u001b[39;00m\u001b[38;5;250m \u001b[39m\u001b[38;5;21;01mPIL\u001b[39;00m\u001b[38;5;21;01m.\u001b[39;00m\u001b[38;5;21;01mImage\u001b[39;00m\u001b[38;5;250m \u001b[39m\u001b[38;5;28;01mimport\u001b[39;00m Image\n\u001b[1;32m     39\u001b[0m \u001b[38;5;28;01mif\u001b[39;00m is_torch_available():\n\u001b[1;32m     40\u001b[0m     \u001b[38;5;28;01mfrom\u001b[39;00m\u001b[38;5;250m \u001b[39m\u001b[38;5;21;01mtorch\u001b[39;00m\u001b[38;5;250m \u001b[39m\u001b[38;5;28;01mimport\u001b[39;00m Tensor\n",
      "File \u001b[0;32m/usr/lib/python3/dist-packages/PIL/Image.py:69\u001b[0m\n\u001b[1;32m     60\u001b[0m MAX_IMAGE_PIXELS \u001b[38;5;241m=\u001b[39m \u001b[38;5;28mint\u001b[39m(\u001b[38;5;241m1024\u001b[39m \u001b[38;5;241m*\u001b[39m \u001b[38;5;241m1024\u001b[39m \u001b[38;5;241m*\u001b[39m \u001b[38;5;241m1024\u001b[39m \u001b[38;5;241m/\u001b[39m\u001b[38;5;241m/\u001b[39m \u001b[38;5;241m4\u001b[39m \u001b[38;5;241m/\u001b[39m\u001b[38;5;241m/\u001b[39m \u001b[38;5;241m3\u001b[39m)\n\u001b[1;32m     63\u001b[0m \u001b[38;5;28;01mtry\u001b[39;00m:\n\u001b[1;32m     64\u001b[0m     \u001b[38;5;66;03m# If the _imaging C module is not present, Pillow will not load.\u001b[39;00m\n\u001b[1;32m     65\u001b[0m     \u001b[38;5;66;03m# Note that other modules should not refer to _imaging directly;\u001b[39;00m\n\u001b[1;32m     66\u001b[0m     \u001b[38;5;66;03m# import Image and use the Image.core variable instead.\u001b[39;00m\n\u001b[1;32m     67\u001b[0m     \u001b[38;5;66;03m# Also note that Image.core is not a publicly documented interface,\u001b[39;00m\n\u001b[1;32m     68\u001b[0m     \u001b[38;5;66;03m# and should be considered private and subject to change.\u001b[39;00m\n\u001b[0;32m---> 69\u001b[0m     \u001b[38;5;28;01mfrom\u001b[39;00m\u001b[38;5;250m \u001b[39m\u001b[38;5;21;01m.\u001b[39;00m\u001b[38;5;250m \u001b[39m\u001b[38;5;28;01mimport\u001b[39;00m _imaging \u001b[38;5;28;01mas\u001b[39;00m core\n\u001b[1;32m     71\u001b[0m     \u001b[38;5;28;01mif\u001b[39;00m __version__ \u001b[38;5;241m!=\u001b[39m \u001b[38;5;28mgetattr\u001b[39m(core, \u001b[38;5;124m\"\u001b[39m\u001b[38;5;124mPILLOW_VERSION\u001b[39m\u001b[38;5;124m\"\u001b[39m, \u001b[38;5;28;01mNone\u001b[39;00m):\n\u001b[1;32m     72\u001b[0m         \u001b[38;5;28;01mraise\u001b[39;00m \u001b[38;5;167;01mImportError\u001b[39;00m(\n\u001b[1;32m     73\u001b[0m             \u001b[38;5;124m\"\u001b[39m\u001b[38;5;124mThe _imaging extension was built for another version of Pillow or PIL:\u001b[39m\u001b[38;5;130;01m\\n\u001b[39;00m\u001b[38;5;124m\"\u001b[39m\n\u001b[1;32m     74\u001b[0m             \u001b[38;5;124m\"\u001b[39m\u001b[38;5;124mCore version: \u001b[39m\u001b[38;5;132;01m%s\u001b[39;00m\u001b[38;5;130;01m\\n\u001b[39;00m\u001b[38;5;124m\"\u001b[39m\n\u001b[1;32m     75\u001b[0m             \u001b[38;5;124m\"\u001b[39m\u001b[38;5;124mPillow version: \u001b[39m\u001b[38;5;132;01m%s\u001b[39;00m\u001b[38;5;124m\"\u001b[39m \u001b[38;5;241m%\u001b[39m (\u001b[38;5;28mgetattr\u001b[39m(core, \u001b[38;5;124m\"\u001b[39m\u001b[38;5;124mPILLOW_VERSION\u001b[39m\u001b[38;5;124m\"\u001b[39m, \u001b[38;5;28;01mNone\u001b[39;00m), __version__)\n\u001b[1;32m     76\u001b[0m         )\n",
      "\u001b[0;31mImportError\u001b[0m: cannot import name '_imaging' from 'PIL' (/usr/lib/python3/dist-packages/PIL/__init__.py)"
     ]
    }
   ],
   "source": [
    "import torch\n",
    "import numpy as np\n",
    "from transformers import BertModel, BertTokenizer\n",
    "from sklearn.metrics.pairwise import cosine_similarity\n",
    "\n",
    "# Carregar o tokenizer e o modelo BERTimbau\n",
    "tokenizer = BertTokenizer.from_pretrained(\"neuralmind/bert-base-portuguese-cased\")\n",
    "model = BertModel.from_pretrained(\"neuralmind/bert-base-portuguese-cased\")"
   ]
  },
  {
   "cell_type": "code",
   "execution_count": null,
   "metadata": {},
   "outputs": [],
   "source": [
    "# Função para gerar embeddings usando BERTimbau\n",
    "def get_bert_embedding(text):\n",
    "    tokens = tokenizer(text, return_tensors=\"pt\", padding=True, truncation=True, max_length=512)\n",
    "    \n",
    "    with torch.no_grad():\n",
    "        output = model(**tokens)\n",
    "    \n",
    "    return output.last_hidden_state[:, 0, :].squeeze().numpy()  # Pegamos o vetor da [CLS] token\n",
    "\n",
    "noticias = [\n",
    "    \"Governo lança novo plano econômico para o país\",\n",
    "    \"Ministro da economia apresenta pacote de reformas\",\n",
    "    \"Nova tecnologia de inteligência artificial revoluciona o mercado\",\n",
    "    \"Time brasileiro vence campeonato internacional de futebol\",\n",
    "    \"Pesquisa científica descobre novo tratamento para doenças raras\"\n",
    "]\n",
    "\n",
    "# Criar embeddings das notícias usando BERTimbau\n",
    "noticias_embeddings = np.array([get_bert_embedding(noticia) for noticia in noticias])\n",
    "\n",
    "noticia_usuario = \"Economia do Brasil cresce com novo plano financeiro\"\n",
    "embedding_usuario = get_bert_embedding(noticia_usuario)\n",
    "\n",
    "# Calcular similaridade entre a notícia do usuário e todas as notícias disponíveis\n",
    "similaridades = cosine_similarity([embedding_usuario], noticias_embeddings)[0]\n",
    "\n",
    "# Ordenar notícias por similaridade\n",
    "noticias_recomendadas = sorted(zip(noticias, similaridades), key=lambda x: x[1], reverse=True)\n",
    "\n",
    "# Exibir as 3 melhores recomendações\n",
    "print(\"🔹 Notícias recomendadas para você:\")\n",
    "for noticia, similaridade in noticias_recomendadas[:3]:\n",
    "    print(f\" - {noticia} (Similaridade: {similaridade:.2f})\")"
   ]
  },
  {
   "cell_type": "code",
   "execution_count": null,
   "metadata": {},
   "outputs": [],
   "source": []
  },
  {
   "cell_type": "code",
   "execution_count": 2,
   "metadata": {},
   "outputs": [],
   "source": [
    "import pandas as pd\n",
    "\n",
    "# Dados das notícias\n",
    "noticias = pd.DataFrame({\n",
    "    'id': [1, 2, 3, 4, 5],\n",
    "    'titulo': ['Notícia A', 'Notícia B', 'Notícia C', 'Notícia D', 'Notícia E'],\n",
    "    'conteudo': [\n",
    "        'Texto completo da notícia A...',\n",
    "        'Texto completo da notícia B...',\n",
    "        'Texto completo da notícia C...',\n",
    "        'Texto completo da notícia D...',\n",
    "        'Texto completo da notícia E...'\n",
    "    ]\n",
    "})\n",
    "\n",
    "# Histórico do usuário\n",
    "historico_usuario = pd.DataFrame({\n",
    "    'id_noticia': [1, 2, 3],  # IDs das notícias visitadas\n",
    "    'timeOnPageHistory': [120, 30, 300],  # Tempo em segundos\n",
    "    'scrollPercentageHistory': [80, 20, 95],  # Porcentagem de scroll\n",
    "    'numberOfClicksHistory': [3, 1, 5],  # Número de cliques\n",
    "    'pageVisitsCountHistory': [2, 1, 3],  # Número de visitas\n",
    "    'timestampHistory': [2, 10, 1]  # Horas desde a visita\n",
    "})"
   ]
  },
  {
   "cell_type": "code",
   "execution_count": 3,
   "metadata": {},
   "outputs": [
    {
     "name": "stdout",
     "output_type": "stream",
     "text": [
      "   id_noticia  timeOnPageHistory  scrollPercentageHistory  \\\n",
      "0           1                120                       80   \n",
      "1           2                 30                       20   \n",
      "2           3                300                       95   \n",
      "\n",
      "   numberOfClicksHistory  pageVisitsCountHistory  timestampHistory  \\\n",
      "0                      3                       2                 2   \n",
      "1                      1                       1                10   \n",
      "2                      5                       3                 1   \n",
      "\n",
      "   engagement_score  weighted_engagement  \n",
      "0              84.5            69.182749  \n",
      "1              21.2             7.799044  \n",
      "2             179.3           162.237349  \n"
     ]
    }
   ],
   "source": [
    "from datetime import datetime\n",
    "import math\n",
    "\n",
    "# Pesos para cada métrica de engajamento\n",
    "pesos = {\n",
    "    'timeOnPageHistory': 0.5,\n",
    "    'scrollPercentageHistory': 0.3,\n",
    "    'numberOfClicksHistory': 0.1,\n",
    "    'pageVisitsCountHistory': 0.1\n",
    "}\n",
    "\n",
    "# Função para calcular o decay temporal\n",
    "def calcular_decay(tempo_em_horas):\n",
    "    return math.exp(-0.1 * tempo_em_horas)  # Ajuste o fator 0.1 conforme necessário\n",
    "\n",
    "# Calcular o engajamento ponderado\n",
    "historico_usuario['engagement_score'] = (\n",
    "    historico_usuario['timeOnPageHistory'] * pesos['timeOnPageHistory'] +\n",
    "    historico_usuario['scrollPercentageHistory'] * pesos['scrollPercentageHistory'] +\n",
    "    historico_usuario['numberOfClicksHistory'] * pesos['numberOfClicksHistory'] +\n",
    "    historico_usuario['pageVisitsCountHistory'] * pesos['pageVisitsCountHistory']\n",
    ")\n",
    "\n",
    "# Aplicar decay temporal\n",
    "historico_usuario['weighted_engagement'] = historico_usuario.apply(\n",
    "    lambda row: row['engagement_score'] * calcular_decay(row['timestampHistory']),\n",
    "    axis=1\n",
    ")\n",
    "\n",
    "print(historico_usuario)"
   ]
  },
  {
   "cell_type": "code",
   "execution_count": 4,
   "metadata": {},
   "outputs": [
    {
     "name": "stdout",
     "output_type": "stream",
     "text": [
      "(5, 4)\n"
     ]
    }
   ],
   "source": [
    "from sklearn.feature_extraction.text import TfidfVectorizer\n",
    "\n",
    "# Treinar o TF-IDF\n",
    "tfidf = TfidfVectorizer(stop_words='english')\n",
    "tfidf_matrix = tfidf.fit_transform(noticias['conteudo'])\n",
    "\n",
    "# Verificar o shape da matriz TF-IDF\n",
    "print(tfidf_matrix.shape)  # (número de notícias, número de termos)"
   ]
  },
  {
   "cell_type": "code",
   "execution_count": 20,
   "metadata": {},
   "outputs": [],
   "source": [
    "import numpy as np\n",
    "\n",
    "# Obter os índices das notícias visitadas no histórico\n",
    "indices_noticias_visitadas = [noticias.index[noticias['id'] == id].tolist()[0] for id in historico_usuario['id_noticia']]\n",
    "\n",
    "# Calcular o vetor de perfil do usuário\n",
    "user_profile = np.zeros(tfidf_matrix.shape[1])  # Inicializar com zeros\n"
   ]
  },
  {
   "cell_type": "code",
   "execution_count": 21,
   "metadata": {},
   "outputs": [
    {
     "data": {
      "text/plain": [
       "array([0., 0., 0., 0.])"
      ]
     },
     "execution_count": 21,
     "metadata": {},
     "output_type": "execute_result"
    }
   ],
   "source": [
    "user_profile"
   ]
  },
  {
   "cell_type": "code",
   "execution_count": 19,
   "metadata": {},
   "outputs": [
    {
     "name": "stdout",
     "output_type": "stream",
     "text": [
      "  (np.int32(0), np.int32(3))\t0.5\n",
      "  (np.int32(0), np.int32(0))\t0.5\n",
      "  (np.int32(0), np.int32(1))\t0.5\n",
      "  (np.int32(0), np.int32(2))\t0.5\n",
      "  (np.int32(0), np.int32(3))\t0.5\n",
      "  (np.int32(0), np.int32(0))\t0.5\n",
      "  (np.int32(0), np.int32(1))\t0.5\n",
      "  (np.int32(0), np.int32(2))\t0.5\n",
      "  (np.int32(0), np.int32(3))\t0.5\n",
      "  (np.int32(0), np.int32(0))\t0.5\n",
      "  (np.int32(0), np.int32(1))\t0.5\n",
      "  (np.int32(0), np.int32(2))\t0.5\n",
      "  (np.int32(0), np.int32(3))\t0.5\n",
      "  (np.int32(0), np.int32(0))\t0.5\n",
      "  (np.int32(0), np.int32(1))\t0.5\n",
      "  (np.int32(0), np.int32(2))\t0.5\n",
      "  (np.int32(0), np.int32(3))\t0.5\n",
      "  (np.int32(0), np.int32(0))\t0.5\n",
      "  (np.int32(0), np.int32(1))\t0.5\n",
      "  (np.int32(0), np.int32(2))\t0.5\n"
     ]
    }
   ],
   "source": [
    "for idx in range(tfidf_matrix.shape[0]):\n",
    "    print(tfidf_matrix[idx])"
   ]
  },
  {
   "cell_type": "code",
   "execution_count": 15,
   "metadata": {},
   "outputs": [
    {
     "name": "stdout",
     "output_type": "stream",
     "text": [
      "0\n",
      "[0.5 0.5 0.5 0.5]\n",
      "69.18274863508947\n",
      "[34.59137432 34.59137432 34.59137432 34.59137432]\n",
      "[35.09137432 35.09137432 35.09137432 35.09137432]\n",
      "1\n",
      "[0.5 0.5 0.5 0.5]\n",
      "7.799044152834578\n",
      "[3.89952208 3.89952208 3.89952208 3.89952208]\n",
      "[38.99089639 38.99089639 38.99089639 38.99089639]\n",
      "2\n",
      "[0.5 0.5 0.5 0.5]\n",
      "162.23734905384754\n",
      "[81.11867453 81.11867453 81.11867453 81.11867453]\n",
      "[120.10957092 120.10957092 120.10957092 120.10957092]\n",
      "[0.5 0.5 0.5 0.5]\n"
     ]
    }
   ],
   "source": [
    "for idx, engagement in zip(indices_noticias_visitadas, historico_usuario['weighted_engagement']):\n",
    "    print(idx)\n",
    "    print(tfidf_matrix[idx].toarray().flatten())\n",
    "    print(engagement)\n",
    "    print(tfidf_matrix[idx].toarray().flatten() * engagement)\n",
    "    user_profile += tfidf_matrix[idx].toarray().flatten() * engagement\n",
    "    print(user_profile)\n",
    "\n",
    "# Normalizar o vetor de perfil\n",
    "user_profile /= np.linalg.norm(user_profile)\n",
    "print(user_profile)"
   ]
  },
  {
   "cell_type": "code",
   "execution_count": 3,
   "metadata": {},
   "outputs": [
    {
     "name": "stdout",
     "output_type": "stream",
     "text": [
      "Arquivo salvo: newsInfo_pre/part_1.csv\n",
      "Arquivo salvo: newsInfo_pre/part_2.csv\n",
      "Arquivo salvo: newsInfo_pre/part_3.csv\n",
      "Arquivo salvo: newsInfo_pre/part_4.csv\n",
      "Arquivo salvo: newsInfo_pre/part_5.csv\n",
      "Arquivo salvo: newsInfo_pre/part_6.csv\n",
      "Arquivo salvo: newsInfo_pre/part_7.csv\n",
      "Arquivo salvo: newsInfo_pre/part_8.csv\n",
      "Arquivo salvo: newsInfo_pre/part_9.csv\n",
      "Arquivo salvo: newsInfo_pre/part_10.csv\n",
      "Arquivo salvo: newsInfo_pre/part_11.csv\n",
      "Arquivo salvo: newsInfo_pre/part_12.csv\n",
      "Arquivo salvo: newsInfo_pre/part_13.csv\n",
      "Arquivo salvo: newsInfo_pre/part_14.csv\n",
      "Arquivo salvo: newsInfo_pre/part_15.csv\n"
     ]
    }
   ],
   "source": [
    "import os\n",
    "import pandas as pd\n",
    "\n",
    "def split_csv_by_size(file_path, max_size_mb=25, output_dir=\"newsInfo_pre\"):\n",
    "    # Criar diretório de saída se não existir\n",
    "    os.makedirs(output_dir, exist_ok=True)\n",
    "\n",
    "    # Carregar o CSV em chunks para evitar alto consumo de memória\n",
    "    chunk_size = 10000  # Número inicial de linhas por chunk\n",
    "    chunk_list = []\n",
    "    total_size = 0\n",
    "    file_count = 1\n",
    "\n",
    "    for chunk in pd.read_csv(file_path, chunksize=chunk_size):\n",
    "        chunk_list.append(chunk)\n",
    "        total_size += chunk.memory_usage(deep=True).sum()\n",
    "\n",
    "        # Se o tamanho total do chunk for maior que o limite, salva e inicia um novo\n",
    "        if total_size >= max_size_mb * 1024 * 1024:\n",
    "            output_file = os.path.join(output_dir, f\"part_{file_count}.csv\")\n",
    "            pd.concat(chunk_list).to_csv(output_file, index=False)\n",
    "            print(f\"Arquivo salvo: {output_file}\")\n",
    "\n",
    "            # Resetar variáveis\n",
    "            chunk_list = []\n",
    "            total_size = 0\n",
    "            file_count += 1\n",
    "\n",
    "    # Salvar o último arquivo, se houver dados restantes\n",
    "    if chunk_list:\n",
    "        output_file = os.path.join(output_dir, f\"part_{file_count}.csv\")\n",
    "        pd.concat(chunk_list).to_csv(output_file, index=False)\n",
    "        print(f\"Arquivo salvo: {output_file}\")\n",
    "\n",
    "# Exemplo de uso\n",
    "split_csv_by_size(\"/home/rodrigo/Vídeos/Datathon/Datathon - FIAP+GloboPlay/files_process/usersInfo_pre.csv\")"
   ]
  }
 ],
 "metadata": {
  "kernelspec": {
   "display_name": "Python 3",
   "language": "python",
   "name": "python3"
  },
  "language_info": {
   "codemirror_mode": {
    "name": "ipython",
    "version": 3
   },
   "file_extension": ".py",
   "mimetype": "text/x-python",
   "name": "python",
   "nbconvert_exporter": "python",
   "pygments_lexer": "ipython3",
   "version": "3.10.16"
  }
 },
 "nbformat": 4,
 "nbformat_minor": 2
}
